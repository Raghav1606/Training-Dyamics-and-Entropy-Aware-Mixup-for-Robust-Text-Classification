{
 "cells": [
  {
   "cell_type": "code",
   "execution_count": 1,
   "id": "743ca5da",
   "metadata": {
    "pycharm": {
     "name": "#%%\n"
    }
   },
   "outputs": [
    {
     "name": "stdout",
     "output_type": "stream",
     "text": [
      "Requirement already satisfied: datasets in /projects/metis2/atharvak/miniconda3/envs/11711_env/lib/python3.10/site-packages (2.7.1)\n",
      "Requirement already satisfied: numpy>=1.17 in /projects/metis2/atharvak/miniconda3/envs/11711_env/lib/python3.10/site-packages (from datasets) (1.23.1)\n",
      "Requirement already satisfied: pyarrow>=6.0.0 in /projects/metis2/atharvak/miniconda3/envs/11711_env/lib/python3.10/site-packages (from datasets) (8.0.0)\n",
      "Requirement already satisfied: dill<0.3.7 in /projects/metis2/atharvak/miniconda3/envs/11711_env/lib/python3.10/site-packages (from datasets) (0.3.6)\n",
      "Requirement already satisfied: pandas in /projects/metis2/atharvak/miniconda3/envs/11711_env/lib/python3.10/site-packages (from datasets) (1.5.1)\n",
      "Requirement already satisfied: requests>=2.19.0 in /projects/metis2/atharvak/miniconda3/envs/11711_env/lib/python3.10/site-packages (from datasets) (2.28.1)\n",
      "Requirement already satisfied: tqdm>=4.62.1 in /projects/metis2/atharvak/miniconda3/envs/11711_env/lib/python3.10/site-packages (from datasets) (4.64.1)\n",
      "Requirement already satisfied: xxhash in /projects/metis2/atharvak/miniconda3/envs/11711_env/lib/python3.10/site-packages (from datasets) (0.0.0)\n",
      "Requirement already satisfied: multiprocess in /projects/metis2/atharvak/miniconda3/envs/11711_env/lib/python3.10/site-packages (from datasets) (0.70.12.2)\n",
      "Requirement already satisfied: fsspec[http]>=2021.11.1 in /projects/metis2/atharvak/miniconda3/envs/11711_env/lib/python3.10/site-packages (from datasets) (2022.11.0)\n",
      "Requirement already satisfied: aiohttp in /projects/metis2/atharvak/miniconda3/envs/11711_env/lib/python3.10/site-packages (from datasets) (3.8.1)\n",
      "Requirement already satisfied: huggingface-hub<1.0.0,>=0.2.0 in /projects/metis2/atharvak/miniconda3/envs/11711_env/lib/python3.10/site-packages/huggingface_hub-0.11.1-py3.8.egg (from datasets) (0.11.1)\n",
      "Requirement already satisfied: packaging in /projects/metis2/atharvak/miniconda3/envs/11711_env/lib/python3.10/site-packages (from datasets) (21.3)\n",
      "Requirement already satisfied: responses<0.19 in /projects/metis2/atharvak/miniconda3/envs/11711_env/lib/python3.10/site-packages (from datasets) (0.18.0)\n",
      "Requirement already satisfied: pyyaml>=5.1 in /projects/metis2/atharvak/miniconda3/envs/11711_env/lib/python3.10/site-packages/PyYAML-6.0-py3.10-linux-x86_64.egg (from datasets) (6.0)\n",
      "Requirement already satisfied: aiosignal>=1.1.2 in /projects/metis2/atharvak/miniconda3/envs/11711_env/lib/python3.10/site-packages (from aiohttp->datasets) (1.3.1)\n",
      "Requirement already satisfied: multidict<7.0,>=4.5 in /projects/metis2/atharvak/miniconda3/envs/11711_env/lib/python3.10/site-packages (from aiohttp->datasets) (6.0.2)\n",
      "Requirement already satisfied: charset-normalizer<3.0,>=2.0 in /projects/metis2/atharvak/miniconda3/envs/11711_env/lib/python3.10/site-packages (from aiohttp->datasets) (2.0.4)\n",
      "Requirement already satisfied: attrs>=17.3.0 in /projects/metis2/atharvak/miniconda3/envs/11711_env/lib/python3.10/site-packages (from aiohttp->datasets) (22.1.0)\n",
      "Requirement already satisfied: async-timeout<5.0,>=4.0.0a3 in /projects/metis2/atharvak/miniconda3/envs/11711_env/lib/python3.10/site-packages (from aiohttp->datasets) (4.0.2)\n",
      "Requirement already satisfied: frozenlist>=1.1.1 in /projects/metis2/atharvak/miniconda3/envs/11711_env/lib/python3.10/site-packages (from aiohttp->datasets) (1.3.3)\n",
      "Requirement already satisfied: yarl<2.0,>=1.0 in /projects/metis2/atharvak/miniconda3/envs/11711_env/lib/python3.10/site-packages (from aiohttp->datasets) (1.7.2)\n",
      "Requirement already satisfied: filelock in /projects/metis2/atharvak/miniconda3/envs/11711_env/lib/python3.10/site-packages (from huggingface-hub<1.0.0,>=0.2.0->datasets) (3.6.0)\n",
      "Requirement already satisfied: typing-extensions>=3.7.4.3 in /projects/metis2/atharvak/miniconda3/envs/11711_env/lib/python3.10/site-packages (from huggingface-hub<1.0.0,>=0.2.0->datasets) (4.4.0)\n",
      "Requirement already satisfied: pyparsing!=3.0.5,>=2.0.2 in /projects/metis2/atharvak/miniconda3/envs/11711_env/lib/python3.10/site-packages (from packaging->datasets) (3.0.9)\n",
      "Requirement already satisfied: urllib3<1.27,>=1.21.1 in /projects/metis2/atharvak/miniconda3/envs/11711_env/lib/python3.10/site-packages (from requests>=2.19.0->datasets) (1.26.12)\n",
      "Requirement already satisfied: idna<4,>=2.5 in /projects/metis2/atharvak/miniconda3/envs/11711_env/lib/python3.10/site-packages (from requests>=2.19.0->datasets) (3.4)\n",
      "Requirement already satisfied: certifi>=2017.4.17 in /projects/metis2/atharvak/miniconda3/envs/11711_env/lib/python3.10/site-packages (from requests>=2.19.0->datasets) (2022.9.24)\n",
      "Requirement already satisfied: python-dateutil>=2.8.1 in /projects/metis2/atharvak/miniconda3/envs/11711_env/lib/python3.10/site-packages (from pandas->datasets) (2.8.2)\n",
      "Requirement already satisfied: pytz>=2020.1 in /projects/metis2/atharvak/miniconda3/envs/11711_env/lib/python3.10/site-packages (from pandas->datasets) (2022.1)\n",
      "Requirement already satisfied: six>=1.5 in /projects/metis2/atharvak/miniconda3/envs/11711_env/lib/python3.10/site-packages (from python-dateutil>=2.8.1->pandas->datasets) (1.16.0)\n"
     ]
    }
   ],
   "source": [
    "import json\n",
    "!pip install datasets\n",
    "from datasets import load_dataset"
   ]
  },
  {
   "cell_type": "code",
   "execution_count": 2,
   "id": "e28014a9",
   "metadata": {
    "pycharm": {
     "name": "#%%\n"
    }
   },
   "outputs": [
    {
     "name": "stderr",
     "output_type": "stream",
     "text": [
      "/projects/metis2/atharvak/miniconda3/envs/11711_env/lib/python3.10/site-packages/scipy/__init__.py:146: UserWarning: A NumPy version >=1.16.5 and <1.23.0 is required for this version of SciPy (detected version 1.23.1\n",
      "  warnings.warn(f\"A NumPy version >={np_minversion} and <{np_maxversion}\"\n",
      "Found cached dataset imdb (/home/atharvak/.cache/huggingface/datasets/imdb/plain_text/1.0.0/2fdd8b9bcadd6e7055e742a706876ba43f19faee861df134affd7a3f60fc38a1)\n"
     ]
    },
    {
     "data": {
      "application/vnd.jupyter.widget-view+json": {
       "model_id": "042935a3659b43b0bf715b5be01f3899",
       "version_major": 2,
       "version_minor": 0
      },
      "text/plain": [
       "  0%|          | 0/3 [00:00<?, ?it/s]"
      ]
     },
     "metadata": {},
     "output_type": "display_data"
    }
   ],
   "source": [
    "dataset_name = 'imdb'\n",
    "raw_datasets = load_dataset(dataset_name)"
   ]
  },
  {
   "cell_type": "code",
   "execution_count": 3,
   "id": "9a7f4042",
   "metadata": {
    "pycharm": {
     "name": "#%%\n"
    }
   },
   "outputs": [
    {
     "data": {
      "text/plain": [
       "DatasetDict({\n",
       "    train: Dataset({\n",
       "        features: ['text', 'label'],\n",
       "        num_rows: 25000\n",
       "    })\n",
       "    test: Dataset({\n",
       "        features: ['text', 'label'],\n",
       "        num_rows: 25000\n",
       "    })\n",
       "    unsupervised: Dataset({\n",
       "        features: ['text', 'label'],\n",
       "        num_rows: 50000\n",
       "    })\n",
       "})"
      ]
     },
     "execution_count": 3,
     "metadata": {},
     "output_type": "execute_result"
    }
   ],
   "source": [
    "raw_datasets"
   ]
  },
  {
   "cell_type": "code",
   "execution_count": 4,
   "id": "1395c6f6",
   "metadata": {},
   "outputs": [],
   "source": [
    "import pandas as pd\n",
    "import os"
   ]
  },
  {
   "cell_type": "code",
   "execution_count": 5,
   "id": "f64aad41",
   "metadata": {
    "pycharm": {
     "name": "#%%\n"
    }
   },
   "outputs": [
    {
     "name": "stderr",
     "output_type": "stream",
     "text": [
      "Loading cached processed dataset at /home/atharvak/.cache/huggingface/datasets/imdb/plain_text/1.0.0/2fdd8b9bcadd6e7055e742a706876ba43f19faee861df134affd7a3f60fc38a1/cache-9a103be8427e9b02.arrow\n",
      "Loading cached processed dataset at /home/atharvak/.cache/huggingface/datasets/imdb/plain_text/1.0.0/2fdd8b9bcadd6e7055e742a706876ba43f19faee861df134affd7a3f60fc38a1/cache-38445888b5967e2f.arrow\n",
      "Loading cached processed dataset at /home/atharvak/.cache/huggingface/datasets/imdb/plain_text/1.0.0/2fdd8b9bcadd6e7055e742a706876ba43f19faee861df134affd7a3f60fc38a1/cache-d2adb714cc80a889.arrow\n"
     ]
    }
   ],
   "source": [
    "# remove samples with label -1\n",
    "raw_datasets['train'] = raw_datasets['train'].filter(lambda x:x['label']!=-1)\n",
    "raw_datasets['test'] = raw_datasets['test'].filter(lambda x:x['label']!=-1)\n",
    "\n",
    "df_train = pd.DataFrame()\n",
    "if dataset_name!= \"sst2\":\n",
    "    ids = list(range(len(raw_datasets['train'])))\n",
    "    raw_datasets['train'] = raw_datasets['train'].add_column('idx',ids)\n",
    "\n",
    "    df_train[\"idx\"] = raw_datasets[\"train\"][\"idx\"]\n",
    "    df_train[\"text\"] = raw_datasets[\"train\"][\"text\"]\n",
    "    df_train[\"label\"] = raw_datasets[\"train\"][\"label\"]\n",
    "    \n",
    "    df_test = pd.DataFrame()\n",
    "    df_test[\"text\"] = raw_datasets[\"test\"][\"text\"]\n",
    "    df_test[\"label\"] = raw_datasets[\"test\"][\"label\"]\n",
    "\n",
    "#     print(df_train.head())\n",
    "#     print(os.getcwd())\n",
    "    df_train.to_csv(f\"/projects/metis2/atharvak/Data_Cartography/datasets/{dataset_name}_train.csv\", header = True, index = False)\n",
    "    df_test.to_csv(f\"/projects/metis2/atharvak/Data_Cartography/datasets/{dataset_name}_test.csv\", header = True, index = False)\n",
    "\n",
    "else:\n",
    "    df_train = pd.DataFrame()\n",
    "    df_train[\"idx\"] = raw_datasets[\"train\"][\"idx\"]\n",
    "    df_train[\"text\"] = raw_datasets[\"train\"][\"sentence\"]\n",
    "    df_train[\"label\"] = raw_datasets[\"train\"][\"label\"]\n",
    "    \n",
    "    df_test = pd.DataFrame()\n",
    "    df_test[\"text\"] = raw_datasets[\"validation\"][\"sentence\"]\n",
    "    df_test[\"label\"] = raw_datasets[\"validation\"][\"label\"]\n",
    "#     raw_datasets.save_to_disk(f\"datasets/{dataset_name}/with_idx\")\n",
    "\n",
    "#     df_train.to_csv(os.getcwd()+f\"{dataset_name}_train.csv\", header = True, index = False)\n",
    "#     df_test.to_csv(os.getcwd()+f\"/datasets/{dataset_name}/test.csv\", header = True, index = False)"
   ]
  },
  {
   "cell_type": "code",
   "execution_count": 6,
   "id": "88b3caae",
   "metadata": {
    "pycharm": {
     "name": "#%%\n"
    }
   },
   "outputs": [
    {
     "name": "stdout",
     "output_type": "stream",
     "text": [
      "['ambiguous', 'easy', 'easy', 'easy', 'none', 'easy', 'none', 'none', 'easy', 'none', 'none', 'easy', 'none', 'ambiguous', 'ambiguous', 'easy', 'easy', 'easy', 'easy', 'easy', 'ambiguous', 'none', 'easy', 'ambiguous', 'easy', 'none', 'easy', 'none', 'easy', 'easy', 'easy', 'none', 'ambiguous', 'easy', 'easy', 'none', 'easy', 'easy', 'easy', 'ambiguous', 'easy', 'none', 'none', 'none', 'none', 'easy', 'easy', 'easy', 'ambiguous', 'none']\n"
     ]
    }
   ],
   "source": [
    "import json\n",
    "f = open(f'/projects/metis2/atharvak/Data_Cartography/dy_log/{dataset_name}/roberta-base/three_regions_data_indices.json')\n",
    "data = json.load(f)\n",
    "new_dict = {}\n",
    "category = []\n",
    "for line in data['hard']:\n",
    "    new_dict[line] = 'hard'\n",
    "for line in data['easy']:\n",
    "    new_dict[line] = 'easy'\n",
    "for line in data['ambiguous']:\n",
    "    new_dict[line] = 'ambiguous'\n",
    "\n",
    "for line in df_train['idx']:\n",
    "    if line not in new_dict.keys():\n",
    "        category.append('none')\n",
    "    else:\n",
    "        category.append(new_dict[line])\n",
    "\n",
    "print (category[:50])\n",
    "df_train['category'] = category\n",
    "\n",
    "df_train.to_csv(f\"/projects/metis2/atharvak/Data_Cartography/datasets/{dataset_name}/{dataset_name}_categorized.csv\", header = True, index = False)"
   ]
  },
  {
   "cell_type": "code",
   "execution_count": 7,
   "id": "2e0d461a",
   "metadata": {
    "pycharm": {
     "name": "#%%\n"
    }
   },
   "outputs": [
    {
     "data": {
      "text/html": [
       "<div>\n",
       "<style scoped>\n",
       "    .dataframe tbody tr th:only-of-type {\n",
       "        vertical-align: middle;\n",
       "    }\n",
       "\n",
       "    .dataframe tbody tr th {\n",
       "        vertical-align: top;\n",
       "    }\n",
       "\n",
       "    .dataframe thead th {\n",
       "        text-align: right;\n",
       "    }\n",
       "</style>\n",
       "<table border=\"1\" class=\"dataframe\">\n",
       "  <thead>\n",
       "    <tr style=\"text-align: right;\">\n",
       "      <th></th>\n",
       "      <th>idx</th>\n",
       "      <th>text</th>\n",
       "      <th>label</th>\n",
       "      <th>category</th>\n",
       "    </tr>\n",
       "  </thead>\n",
       "  <tbody>\n",
       "    <tr>\n",
       "      <th>0</th>\n",
       "      <td>0</td>\n",
       "      <td>I rented I AM CURIOUS-YELLOW from my video sto...</td>\n",
       "      <td>0</td>\n",
       "      <td>ambiguous</td>\n",
       "    </tr>\n",
       "    <tr>\n",
       "      <th>1</th>\n",
       "      <td>1</td>\n",
       "      <td>\"I Am Curious: Yellow\" is a risible and preten...</td>\n",
       "      <td>0</td>\n",
       "      <td>easy</td>\n",
       "    </tr>\n",
       "    <tr>\n",
       "      <th>2</th>\n",
       "      <td>2</td>\n",
       "      <td>If only to avoid making this type of film in t...</td>\n",
       "      <td>0</td>\n",
       "      <td>easy</td>\n",
       "    </tr>\n",
       "    <tr>\n",
       "      <th>3</th>\n",
       "      <td>3</td>\n",
       "      <td>This film was probably inspired by Godard's Ma...</td>\n",
       "      <td>0</td>\n",
       "      <td>easy</td>\n",
       "    </tr>\n",
       "    <tr>\n",
       "      <th>4</th>\n",
       "      <td>4</td>\n",
       "      <td>Oh, brother...after hearing about this ridicul...</td>\n",
       "      <td>0</td>\n",
       "      <td>none</td>\n",
       "    </tr>\n",
       "    <tr>\n",
       "      <th>...</th>\n",
       "      <td>...</td>\n",
       "      <td>...</td>\n",
       "      <td>...</td>\n",
       "      <td>...</td>\n",
       "    </tr>\n",
       "    <tr>\n",
       "      <th>24995</th>\n",
       "      <td>24995</td>\n",
       "      <td>A hit at the time but now better categorised a...</td>\n",
       "      <td>1</td>\n",
       "      <td>ambiguous</td>\n",
       "    </tr>\n",
       "    <tr>\n",
       "      <th>24996</th>\n",
       "      <td>24996</td>\n",
       "      <td>I love this movie like no other. Another time ...</td>\n",
       "      <td>1</td>\n",
       "      <td>none</td>\n",
       "    </tr>\n",
       "    <tr>\n",
       "      <th>24997</th>\n",
       "      <td>24997</td>\n",
       "      <td>This film and it's sequel Barry Mckenzie holds...</td>\n",
       "      <td>1</td>\n",
       "      <td>none</td>\n",
       "    </tr>\n",
       "    <tr>\n",
       "      <th>24998</th>\n",
       "      <td>24998</td>\n",
       "      <td>'The Adventures Of Barry McKenzie' started lif...</td>\n",
       "      <td>1</td>\n",
       "      <td>ambiguous</td>\n",
       "    </tr>\n",
       "    <tr>\n",
       "      <th>24999</th>\n",
       "      <td>24999</td>\n",
       "      <td>The story centers around Barry McKenzie who mu...</td>\n",
       "      <td>1</td>\n",
       "      <td>none</td>\n",
       "    </tr>\n",
       "  </tbody>\n",
       "</table>\n",
       "<p>25000 rows × 4 columns</p>\n",
       "</div>"
      ],
      "text/plain": [
       "         idx                                               text  label  \\\n",
       "0          0  I rented I AM CURIOUS-YELLOW from my video sto...      0   \n",
       "1          1  \"I Am Curious: Yellow\" is a risible and preten...      0   \n",
       "2          2  If only to avoid making this type of film in t...      0   \n",
       "3          3  This film was probably inspired by Godard's Ma...      0   \n",
       "4          4  Oh, brother...after hearing about this ridicul...      0   \n",
       "...      ...                                                ...    ...   \n",
       "24995  24995  A hit at the time but now better categorised a...      1   \n",
       "24996  24996  I love this movie like no other. Another time ...      1   \n",
       "24997  24997  This film and it's sequel Barry Mckenzie holds...      1   \n",
       "24998  24998  'The Adventures Of Barry McKenzie' started lif...      1   \n",
       "24999  24999  The story centers around Barry McKenzie who mu...      1   \n",
       "\n",
       "        category  \n",
       "0      ambiguous  \n",
       "1           easy  \n",
       "2           easy  \n",
       "3           easy  \n",
       "4           none  \n",
       "...          ...  \n",
       "24995  ambiguous  \n",
       "24996       none  \n",
       "24997       none  \n",
       "24998  ambiguous  \n",
       "24999       none  \n",
       "\n",
       "[25000 rows x 4 columns]"
      ]
     },
     "execution_count": 7,
     "metadata": {},
     "output_type": "execute_result"
    }
   ],
   "source": [
    "df = pd.read_csv('/projects/metis2/atharvak/Data_Cartography/datasets/imdb/imdb_categorized.csv')\n",
    "df"
   ]
  },
  {
   "cell_type": "code",
   "execution_count": 8,
   "id": "9d439d15",
   "metadata": {},
   "outputs": [
    {
     "data": {
      "text/plain": [
       "ambiguous    8250\n",
       "easy         8250\n",
       "none         8042\n",
       "hard          458\n",
       "Name: category, dtype: int64"
      ]
     },
     "execution_count": 8,
     "metadata": {},
     "output_type": "execute_result"
    }
   ],
   "source": [
    "df['category'].value_counts()"
   ]
  },
  {
   "cell_type": "code",
   "execution_count": null,
   "id": "66e9f13a",
   "metadata": {},
   "outputs": [],
   "source": []
  },
  {
   "cell_type": "code",
   "execution_count": 73,
   "id": "9d9a60f3",
   "metadata": {},
   "outputs": [],
   "source": [
    "df_e = df_train.loc[df_train['category'] == \"easy\"]\n",
    "df_easy = pd.DataFrame()\n",
    "df_easy['text'] = df_e['text']\n",
    "df_easy['label'] = df_e['label']\n",
    "# df_easy.to_csv(os.getcwd()+f\"/datasets/{dataset_name}/{dataset_name}_easy.csv\", header = True, index = False)"
   ]
  },
  {
   "cell_type": "code",
   "execution_count": 74,
   "id": "4bc028fd",
   "metadata": {},
   "outputs": [],
   "source": [
    "df_h = df_train.loc[df_train['category'] == \"hard\"]\n",
    "df_hard = pd.DataFrame()\n",
    "df_hard['text'] = df_h['text']\n",
    "df_hard['label'] = df_h['label']\n",
    "# df_hard.to_csv(os.getcwd()+f\"/datasets/{dataset_name}/{dataset_name}_hard.csv\", header = True, index = False)"
   ]
  },
  {
   "cell_type": "code",
   "execution_count": 75,
   "id": "b172fd06",
   "metadata": {},
   "outputs": [],
   "source": [
    "df_a = df_train.loc[df_train['category'] == \"ambiguous\"]\n",
    "df_ambi = pd.DataFrame()\n",
    "df_ambi['text'] = df_a['text']\n",
    "df_ambi['label'] = df_a['label']\n",
    "# df_ambi.to_csv(os.getcwd()+f\"/datasets/{dataset_name}/{dataset_name}_ambi.csv\", header = True, index = False)"
   ]
  },
  {
   "cell_type": "code",
   "execution_count": null,
   "id": "ea01413a",
   "metadata": {},
   "outputs": [],
   "source": []
  },
  {
   "cell_type": "code",
   "execution_count": 76,
   "id": "9fb32e0e",
   "metadata": {},
   "outputs": [],
   "source": [
    "df_t1= df_train.loc[df_train['category'] == \"easy\"]\n",
    "df_t2 = df_train.loc[df_train['category'] == \"ambiguous\"]\n",
    "\n",
    "df_easy= pd.DataFrame()\n",
    "df_easy['text'] = df_t1['text']\n",
    "df_easy['label'] = df_t1['label']\n",
    "df_hard = pd.DataFrame()\n",
    "df_hard['text'] = df_t2['text']\n",
    "df_hard['label'] = df_t2['label']\n",
    "\n",
    "df_easy_hard = pd.DataFrame()\n",
    "df_easy_hard = pd.concat([df_easy, df_hard])\n",
    "\n",
    "df_easy_hard.sample(frac=1)\n",
    "df_easy_hard.to_csv(os.getcwd()+f\"/datasets/{dataset_name}/{dataset_name}_easy_ambi.csv\", header = True, index = False)"
   ]
  },
  {
   "cell_type": "code",
   "execution_count": 64,
   "id": "d25664e7",
   "metadata": {},
   "outputs": [
    {
     "data": {
      "text/html": [
       "<div>\n",
       "<style scoped>\n",
       "    .dataframe tbody tr th:only-of-type {\n",
       "        vertical-align: middle;\n",
       "    }\n",
       "\n",
       "    .dataframe tbody tr th {\n",
       "        vertical-align: top;\n",
       "    }\n",
       "\n",
       "    .dataframe thead th {\n",
       "        text-align: right;\n",
       "    }\n",
       "</style>\n",
       "<table border=\"1\" class=\"dataframe\">\n",
       "  <thead>\n",
       "    <tr style=\"text-align: right;\">\n",
       "      <th></th>\n",
       "      <th>text</th>\n",
       "      <th>label</th>\n",
       "    </tr>\n",
       "  </thead>\n",
       "  <tbody>\n",
       "    <tr>\n",
       "      <th>2</th>\n",
       "      <td>that loves its characters and communicates som...</td>\n",
       "      <td>1</td>\n",
       "    </tr>\n",
       "    <tr>\n",
       "      <th>15</th>\n",
       "      <td>the greatest musicians</td>\n",
       "      <td>1</td>\n",
       "    </tr>\n",
       "    <tr>\n",
       "      <th>17</th>\n",
       "      <td>with his usual intelligence and subtlety</td>\n",
       "      <td>1</td>\n",
       "    </tr>\n",
       "    <tr>\n",
       "      <th>19</th>\n",
       "      <td>swimming is above all about a young woman 's f...</td>\n",
       "      <td>1</td>\n",
       "    </tr>\n",
       "    <tr>\n",
       "      <th>22</th>\n",
       "      <td>a smile on your face</td>\n",
       "      <td>1</td>\n",
       "    </tr>\n",
       "    <tr>\n",
       "      <th>...</th>\n",
       "      <td>...</td>\n",
       "      <td>...</td>\n",
       "    </tr>\n",
       "    <tr>\n",
       "      <th>67343</th>\n",
       "      <td>showing off his doctorate</td>\n",
       "      <td>1</td>\n",
       "    </tr>\n",
       "    <tr>\n",
       "      <th>67345</th>\n",
       "      <td>anguish , anger and frustration</td>\n",
       "      <td>0</td>\n",
       "    </tr>\n",
       "    <tr>\n",
       "      <th>67346</th>\n",
       "      <td>at achieving the modest , crowd-pleasing goals...</td>\n",
       "      <td>1</td>\n",
       "    </tr>\n",
       "    <tr>\n",
       "      <th>67347</th>\n",
       "      <td>a patient viewer</td>\n",
       "      <td>1</td>\n",
       "    </tr>\n",
       "    <tr>\n",
       "      <th>67348</th>\n",
       "      <td>this new jangle of noise , mayhem and stupidit...</td>\n",
       "      <td>0</td>\n",
       "    </tr>\n",
       "  </tbody>\n",
       "</table>\n",
       "<p>44450 rows × 2 columns</p>\n",
       "</div>"
      ],
      "text/plain": [
       "                                                    text  label\n",
       "2      that loves its characters and communicates som...      1\n",
       "15                               the greatest musicians       1\n",
       "17             with his usual intelligence and subtlety       1\n",
       "19     swimming is above all about a young woman 's f...      1\n",
       "22                                 a smile on your face       1\n",
       "...                                                  ...    ...\n",
       "67343                         showing off his doctorate       1\n",
       "67345                   anguish , anger and frustration       0\n",
       "67346  at achieving the modest , crowd-pleasing goals...      1\n",
       "67347                                  a patient viewer       1\n",
       "67348  this new jangle of noise , mayhem and stupidit...      0\n",
       "\n",
       "[44450 rows x 2 columns]"
      ]
     },
     "execution_count": 64,
     "metadata": {},
     "output_type": "execute_result"
    }
   ],
   "source": [
    "df_easy_hard"
   ]
  },
  {
   "cell_type": "code",
   "execution_count": 65,
   "id": "266faae3",
   "metadata": {},
   "outputs": [
    {
     "data": {
      "text/plain": [
       "ambiguous    22225\n",
       "easy         22225\n",
       "none         21091\n",
       "hard          1808\n",
       "Name: category, dtype: int64"
      ]
     },
     "execution_count": 65,
     "metadata": {},
     "output_type": "execute_result"
    }
   ],
   "source": [
    "df_train[\"category\"].value_counts()"
   ]
  },
  {
   "cell_type": "code",
   "execution_count": 22,
   "id": "e82a41b3",
   "metadata": {},
   "outputs": [
    {
     "data": {
      "text/html": [
       "<div>\n",
       "<style scoped>\n",
       "    .dataframe tbody tr th:only-of-type {\n",
       "        vertical-align: middle;\n",
       "    }\n",
       "\n",
       "    .dataframe tbody tr th {\n",
       "        vertical-align: top;\n",
       "    }\n",
       "\n",
       "    .dataframe thead th {\n",
       "        text-align: right;\n",
       "    }\n",
       "</style>\n",
       "<table border=\"1\" class=\"dataframe\">\n",
       "  <thead>\n",
       "    <tr style=\"text-align: right;\">\n",
       "      <th></th>\n",
       "      <th>idx</th>\n",
       "      <th>text</th>\n",
       "      <th>label</th>\n",
       "      <th>category</th>\n",
       "    </tr>\n",
       "  </thead>\n",
       "  <tbody>\n",
       "    <tr>\n",
       "      <th>2</th>\n",
       "      <td>2</td>\n",
       "      <td>that loves its characters and communicates som...</td>\n",
       "      <td>1</td>\n",
       "      <td>easy</td>\n",
       "    </tr>\n",
       "    <tr>\n",
       "      <th>15</th>\n",
       "      <td>15</td>\n",
       "      <td>the greatest musicians</td>\n",
       "      <td>1</td>\n",
       "      <td>easy</td>\n",
       "    </tr>\n",
       "    <tr>\n",
       "      <th>17</th>\n",
       "      <td>17</td>\n",
       "      <td>with his usual intelligence and subtlety</td>\n",
       "      <td>1</td>\n",
       "      <td>easy</td>\n",
       "    </tr>\n",
       "    <tr>\n",
       "      <th>19</th>\n",
       "      <td>19</td>\n",
       "      <td>swimming is above all about a young woman 's f...</td>\n",
       "      <td>1</td>\n",
       "      <td>easy</td>\n",
       "    </tr>\n",
       "    <tr>\n",
       "      <th>22</th>\n",
       "      <td>22</td>\n",
       "      <td>a smile on your face</td>\n",
       "      <td>1</td>\n",
       "      <td>easy</td>\n",
       "    </tr>\n",
       "    <tr>\n",
       "      <th>...</th>\n",
       "      <td>...</td>\n",
       "      <td>...</td>\n",
       "      <td>...</td>\n",
       "      <td>...</td>\n",
       "    </tr>\n",
       "    <tr>\n",
       "      <th>67328</th>\n",
       "      <td>67328</td>\n",
       "      <td>is nothing short of a great one .</td>\n",
       "      <td>1</td>\n",
       "      <td>easy</td>\n",
       "    </tr>\n",
       "    <tr>\n",
       "      <th>67333</th>\n",
       "      <td>67333</td>\n",
       "      <td>comedy ensemble</td>\n",
       "      <td>1</td>\n",
       "      <td>easy</td>\n",
       "    </tr>\n",
       "    <tr>\n",
       "      <th>67335</th>\n",
       "      <td>67335</td>\n",
       "      <td>brilliant movie</td>\n",
       "      <td>1</td>\n",
       "      <td>easy</td>\n",
       "    </tr>\n",
       "    <tr>\n",
       "      <th>67338</th>\n",
       "      <td>67338</td>\n",
       "      <td>polished ,</td>\n",
       "      <td>1</td>\n",
       "      <td>easy</td>\n",
       "    </tr>\n",
       "    <tr>\n",
       "      <th>67344</th>\n",
       "      <td>67344</td>\n",
       "      <td>a delightful comedy</td>\n",
       "      <td>1</td>\n",
       "      <td>easy</td>\n",
       "    </tr>\n",
       "  </tbody>\n",
       "</table>\n",
       "<p>22225 rows × 4 columns</p>\n",
       "</div>"
      ],
      "text/plain": [
       "         idx                                               text  label  \\\n",
       "2          2  that loves its characters and communicates som...      1   \n",
       "15        15                            the greatest musicians       1   \n",
       "17        17          with his usual intelligence and subtlety       1   \n",
       "19        19  swimming is above all about a young woman 's f...      1   \n",
       "22        22                              a smile on your face       1   \n",
       "...      ...                                                ...    ...   \n",
       "67328  67328                 is nothing short of a great one .       1   \n",
       "67333  67333                                   comedy ensemble       1   \n",
       "67335  67335                                   brilliant movie       1   \n",
       "67338  67338                                        polished ,       1   \n",
       "67344  67344                               a delightful comedy       1   \n",
       "\n",
       "      category  \n",
       "2         easy  \n",
       "15        easy  \n",
       "17        easy  \n",
       "19        easy  \n",
       "22        easy  \n",
       "...        ...  \n",
       "67328     easy  \n",
       "67333     easy  \n",
       "67335     easy  \n",
       "67338     easy  \n",
       "67344     easy  \n",
       "\n",
       "[22225 rows x 4 columns]"
      ]
     },
     "execution_count": 22,
     "metadata": {},
     "output_type": "execute_result"
    }
   ],
   "source": [
    "df_t1"
   ]
  },
  {
   "cell_type": "code",
   "execution_count": 69,
   "id": "70451d24",
   "metadata": {},
   "outputs": [
    {
     "data": {
      "text/html": [
       "<div>\n",
       "<style scoped>\n",
       "    .dataframe tbody tr th:only-of-type {\n",
       "        vertical-align: middle;\n",
       "    }\n",
       "\n",
       "    .dataframe tbody tr th {\n",
       "        vertical-align: top;\n",
       "    }\n",
       "\n",
       "    .dataframe thead th {\n",
       "        text-align: right;\n",
       "    }\n",
       "</style>\n",
       "<table border=\"1\" class=\"dataframe\">\n",
       "  <thead>\n",
       "    <tr style=\"text-align: right;\">\n",
       "      <th></th>\n",
       "      <th>text</th>\n",
       "      <th>label</th>\n",
       "    </tr>\n",
       "  </thead>\n",
       "  <tbody>\n",
       "    <tr>\n",
       "      <th>0</th>\n",
       "      <td>I'm writing this review to give you a heads up...</td>\n",
       "      <td>0</td>\n",
       "    </tr>\n",
       "    <tr>\n",
       "      <th>1</th>\n",
       "      <td>Wing sauce is like water. Pretty much a lot of...</td>\n",
       "      <td>0</td>\n",
       "    </tr>\n",
       "    <tr>\n",
       "      <th>2</th>\n",
       "      <td>I drove by yesterday to get a sneak peak.  It ...</td>\n",
       "      <td>1</td>\n",
       "    </tr>\n",
       "    <tr>\n",
       "      <th>3</th>\n",
       "      <td>After waiting for almost 30 minutes to trade i...</td>\n",
       "      <td>0</td>\n",
       "    </tr>\n",
       "    <tr>\n",
       "      <th>4</th>\n",
       "      <td>I got 'new' tires from them and within two wee...</td>\n",
       "      <td>0</td>\n",
       "    </tr>\n",
       "    <tr>\n",
       "      <th>...</th>\n",
       "      <td>...</td>\n",
       "      <td>...</td>\n",
       "    </tr>\n",
       "    <tr>\n",
       "      <th>184795</th>\n",
       "      <td>When Corey sent the email about tickets being ...</td>\n",
       "      <td>1</td>\n",
       "    </tr>\n",
       "    <tr>\n",
       "      <th>184796</th>\n",
       "      <td>Wow, really?  Bought one item from them, a ham...</td>\n",
       "      <td>0</td>\n",
       "    </tr>\n",
       "    <tr>\n",
       "      <th>184797</th>\n",
       "      <td>Long line, inefficient staff. Maybe my expecta...</td>\n",
       "      <td>0</td>\n",
       "    </tr>\n",
       "    <tr>\n",
       "      <th>184798</th>\n",
       "      <td>Professional \\nFriendly\\nOn time AND affordabl...</td>\n",
       "      <td>1</td>\n",
       "    </tr>\n",
       "    <tr>\n",
       "      <th>184799</th>\n",
       "      <td>Phone calls always go to voicemail and message...</td>\n",
       "      <td>0</td>\n",
       "    </tr>\n",
       "  </tbody>\n",
       "</table>\n",
       "<p>184800 rows × 2 columns</p>\n",
       "</div>"
      ],
      "text/plain": [
       "                                                     text  label\n",
       "0       I'm writing this review to give you a heads up...      0\n",
       "1       Wing sauce is like water. Pretty much a lot of...      0\n",
       "2       I drove by yesterday to get a sneak peak.  It ...      1\n",
       "3       After waiting for almost 30 minutes to trade i...      0\n",
       "4       I got 'new' tires from them and within two wee...      0\n",
       "...                                                   ...    ...\n",
       "184795  When Corey sent the email about tickets being ...      1\n",
       "184796  Wow, really?  Bought one item from them, a ham...      0\n",
       "184797  Long line, inefficient staff. Maybe my expecta...      0\n",
       "184798  Professional \\nFriendly\\nOn time AND affordabl...      1\n",
       "184799  Phone calls always go to voicemail and message...      0\n",
       "\n",
       "[184800 rows x 2 columns]"
      ]
     },
     "execution_count": 69,
     "metadata": {},
     "output_type": "execute_result"
    }
   ],
   "source": [
    "pd.read_csv(os.getcwd()+f\"/datasets/{dataset_name}/{dataset_name}_easy_hard.csv\")"
   ]
  },
  {
   "cell_type": "code",
   "execution_count": null,
   "id": "3924062e",
   "metadata": {},
   "outputs": [],
   "source": []
  }
 ],
 "metadata": {
  "kernelspec": {
   "display_name": "Python 3 (ipykernel)",
   "language": "python",
   "name": "python3"
  },
  "language_info": {
   "codemirror_mode": {
    "name": "ipython",
    "version": 3
   },
   "file_extension": ".py",
   "mimetype": "text/x-python",
   "name": "python",
   "nbconvert_exporter": "python",
   "pygments_lexer": "ipython3",
   "version": "3.10.4"
  }
 },
 "nbformat": 4,
 "nbformat_minor": 5
}
