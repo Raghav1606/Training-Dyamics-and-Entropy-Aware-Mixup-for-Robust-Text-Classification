{
 "cells": [
  {
   "cell_type": "code",
   "execution_count": 1,
   "id": "060153f0",
   "metadata": {
    "pycharm": {
     "name": "#%%\n"
    }
   },
   "outputs": [
    {
     "data": {
      "text/plain": [
       "'/projects/ogma3/atharvak/Data_Cartography'"
      ]
     },
     "execution_count": 1,
     "metadata": {},
     "output_type": "execute_result"
    }
   ],
   "source": [
    "pwd"
   ]
  },
  {
   "cell_type": "code",
   "execution_count": 2,
   "id": "743ca5da",
   "metadata": {
    "pycharm": {
     "name": "#%%\n"
    }
   },
   "outputs": [],
   "source": [
    "import json\n",
    "# !pip install datasets\n",
    "from datasets import load_dataset"
   ]
  },
  {
   "cell_type": "code",
   "execution_count": 21,
   "id": "e28014a9",
   "metadata": {
    "pycharm": {
     "name": "#%%\n"
    }
   },
   "outputs": [
    {
     "data": {
      "application/vnd.jupyter.widget-view+json": {
       "model_id": "a70344d5d65e4534af93358565cb6503",
       "version_major": 2,
       "version_minor": 0
      },
      "text/plain": [
       "Downloading builder script:   0%|          | 0.00/4.31k [00:00<?, ?B/s]"
      ]
     },
     "metadata": {},
     "output_type": "display_data"
    },
    {
     "data": {
      "application/vnd.jupyter.widget-view+json": {
       "model_id": "ed3db5e54ca84f4ba23c4ea89f3ae144",
       "version_major": 2,
       "version_minor": 0
      },
      "text/plain": [
       "Downloading metadata:   0%|          | 0.00/2.17k [00:00<?, ?B/s]"
      ]
     },
     "metadata": {},
     "output_type": "display_data"
    },
    {
     "data": {
      "application/vnd.jupyter.widget-view+json": {
       "model_id": "5f83e40568734614875c3adbbd71615c",
       "version_major": 2,
       "version_minor": 0
      },
      "text/plain": [
       "Downloading readme:   0%|          | 0.00/7.59k [00:00<?, ?B/s]"
      ]
     },
     "metadata": {},
     "output_type": "display_data"
    },
    {
     "name": "stdout",
     "output_type": "stream",
     "text": [
      "Downloading and preparing dataset imdb/plain_text to /home/atharvak/.cache/huggingface/datasets/imdb/plain_text/1.0.0/2fdd8b9bcadd6e7055e742a706876ba43f19faee861df134affd7a3f60fc38a1...\n"
     ]
    },
    {
     "data": {
      "application/vnd.jupyter.widget-view+json": {
       "model_id": "6e6de099d8814b74b7af66953189f5fb",
       "version_major": 2,
       "version_minor": 0
      },
      "text/plain": [
       "Downloading data:   0%|          | 0.00/84.1M [00:00<?, ?B/s]"
      ]
     },
     "metadata": {},
     "output_type": "display_data"
    },
    {
     "data": {
      "application/vnd.jupyter.widget-view+json": {
       "model_id": "",
       "version_major": 2,
       "version_minor": 0
      },
      "text/plain": [
       "Generating train split:   0%|          | 0/25000 [00:00<?, ? examples/s]"
      ]
     },
     "metadata": {},
     "output_type": "display_data"
    },
    {
     "data": {
      "application/vnd.jupyter.widget-view+json": {
       "model_id": "",
       "version_major": 2,
       "version_minor": 0
      },
      "text/plain": [
       "Generating test split:   0%|          | 0/25000 [00:00<?, ? examples/s]"
      ]
     },
     "metadata": {},
     "output_type": "display_data"
    },
    {
     "data": {
      "application/vnd.jupyter.widget-view+json": {
       "model_id": "",
       "version_major": 2,
       "version_minor": 0
      },
      "text/plain": [
       "Generating unsupervised split:   0%|          | 0/50000 [00:00<?, ? examples/s]"
      ]
     },
     "metadata": {},
     "output_type": "display_data"
    },
    {
     "name": "stdout",
     "output_type": "stream",
     "text": [
      "Dataset imdb downloaded and prepared to /home/atharvak/.cache/huggingface/datasets/imdb/plain_text/1.0.0/2fdd8b9bcadd6e7055e742a706876ba43f19faee861df134affd7a3f60fc38a1. Subsequent calls will reuse this data.\n"
     ]
    },
    {
     "data": {
      "application/vnd.jupyter.widget-view+json": {
       "model_id": "55451cdf9eeb4d43b1970963ed78c284",
       "version_major": 2,
       "version_minor": 0
      },
      "text/plain": [
       "  0%|          | 0/3 [00:00<?, ?it/s]"
      ]
     },
     "metadata": {},
     "output_type": "display_data"
    }
   ],
   "source": [
    "dataset_name = 'imdb'\n",
    "raw_datasets = load_dataset(dataset_name)"
   ]
  },
  {
   "cell_type": "code",
   "execution_count": 22,
   "id": "9a7f4042",
   "metadata": {
    "pycharm": {
     "name": "#%%\n"
    }
   },
   "outputs": [
    {
     "data": {
      "text/plain": [
       "'imdb'"
      ]
     },
     "execution_count": 22,
     "metadata": {},
     "output_type": "execute_result"
    }
   ],
   "source": [
    "dataset_name"
   ]
  },
  {
   "cell_type": "code",
   "execution_count": 23,
   "id": "f64aad41",
   "metadata": {
    "pycharm": {
     "name": "#%%\n"
    }
   },
   "outputs": [
    {
     "data": {
      "application/vnd.jupyter.widget-view+json": {
       "model_id": "c80128595d43466b8f9b6263518b09fc",
       "version_major": 2,
       "version_minor": 0
      },
      "text/plain": [
       "  0%|          | 0/25 [00:00<?, ?ba/s]"
      ]
     },
     "metadata": {},
     "output_type": "display_data"
    },
    {
     "data": {
      "application/vnd.jupyter.widget-view+json": {
       "model_id": "c7f5560808ad494eafc8c38e1da41e55",
       "version_major": 2,
       "version_minor": 0
      },
      "text/plain": [
       "  0%|          | 0/25 [00:00<?, ?ba/s]"
      ]
     },
     "metadata": {},
     "output_type": "display_data"
    },
    {
     "data": {
      "application/vnd.jupyter.widget-view+json": {
       "model_id": "68ee8f5fd5af4650885ab584d56a4f20",
       "version_major": 2,
       "version_minor": 0
      },
      "text/plain": [
       "Flattening the indices:   0%|          | 0/25 [00:00<?, ?ba/s]"
      ]
     },
     "metadata": {},
     "output_type": "display_data"
    },
    {
     "name": "stderr",
     "output_type": "stream",
     "text": [
      "Exception ignored in: <function tqdm.__del__ at 0x7fd25f407ac0>\n",
      "Traceback (most recent call last):\n",
      "  File \"/projects/ogma3/atharvak/miniconda3/envs/11711_env/lib/python3.10/site-packages/tqdm/std.py\", line 1162, in __del__\n",
      "    self.close()\n",
      "  File \"/projects/ogma3/atharvak/miniconda3/envs/11711_env/lib/python3.10/site-packages/tqdm/notebook.py\", line 293, in close\n",
      "    self.disp(close=True, check_delay=False)\n",
      "  File \"/projects/ogma3/atharvak/miniconda3/envs/11711_env/lib/python3.10/site-packages/tqdm/notebook.py\", line 192, in display\n",
      "    self.container.close()\n",
      "  File \"/projects/ogma3/atharvak/miniconda3/envs/11711_env/lib/python3.10/site-packages/ipywidgets/widgets/widget.py\", line 500, in close\n",
      "    self.comm.close()\n",
      "  File \"/projects/ogma3/atharvak/miniconda3/envs/11711_env/lib/python3.10/site-packages/comm/base_comm.py\", line 109, in close\n",
      "    get_comm_manager().unregister_comm(self)\n",
      "NameError: name 'get_comm_manager' is not defined\n",
      "Exception ignored in: <function tqdm.__del__ at 0x7fd25f407ac0>\n",
      "Traceback (most recent call last):\n",
      "  File \"/projects/ogma3/atharvak/miniconda3/envs/11711_env/lib/python3.10/site-packages/tqdm/std.py\", line 1162, in __del__\n",
      "    self.close()\n",
      "  File \"/projects/ogma3/atharvak/miniconda3/envs/11711_env/lib/python3.10/site-packages/tqdm/notebook.py\", line 293, in close\n",
      "    self.disp(close=True, check_delay=False)\n",
      "  File \"/projects/ogma3/atharvak/miniconda3/envs/11711_env/lib/python3.10/site-packages/tqdm/notebook.py\", line 192, in display\n",
      "    self.container.close()\n",
      "  File \"/projects/ogma3/atharvak/miniconda3/envs/11711_env/lib/python3.10/site-packages/ipywidgets/widgets/widget.py\", line 500, in close\n",
      "    self.comm.close()\n",
      "  File \"/projects/ogma3/atharvak/miniconda3/envs/11711_env/lib/python3.10/site-packages/comm/base_comm.py\", line 109, in close\n",
      "    get_comm_manager().unregister_comm(self)\n",
      "NameError: name 'get_comm_manager' is not defined\n",
      "Exception ignored in: <function tqdm.__del__ at 0x7fd25f407ac0>\n",
      "Traceback (most recent call last):\n",
      "  File \"/projects/ogma3/atharvak/miniconda3/envs/11711_env/lib/python3.10/site-packages/tqdm/std.py\", line 1162, in __del__\n",
      "    self.close()\n",
      "  File \"/projects/ogma3/atharvak/miniconda3/envs/11711_env/lib/python3.10/site-packages/tqdm/notebook.py\", line 293, in close\n",
      "    self.disp(close=True, check_delay=False)\n",
      "  File \"/projects/ogma3/atharvak/miniconda3/envs/11711_env/lib/python3.10/site-packages/tqdm/notebook.py\", line 192, in display\n",
      "    self.container.close()\n",
      "  File \"/projects/ogma3/atharvak/miniconda3/envs/11711_env/lib/python3.10/site-packages/ipywidgets/widgets/widget.py\", line 500, in close\n",
      "    self.comm.close()\n",
      "  File \"/projects/ogma3/atharvak/miniconda3/envs/11711_env/lib/python3.10/site-packages/comm/base_comm.py\", line 109, in close\n",
      "    get_comm_manager().unregister_comm(self)\n",
      "NameError: name 'get_comm_manager' is not defined\n"
     ]
    }
   ],
   "source": [
    "import pandas as pd\n",
    "import os\n",
    "# remove samples with label -1\n",
    "raw_datasets['train'] = raw_datasets['train'].filter(lambda x:x['label']!=-1)\n",
    "raw_datasets['test'] = raw_datasets['test'].filter(lambda x:x['label']!=-1)\n",
    "\n",
    "df_train = pd.DataFrame()\n",
    "if dataset_name!= \"sst2\":\n",
    "    ids = list(range(len(raw_datasets['train'])))\n",
    "    raw_datasets['train'] = raw_datasets['train'].add_column('idx',ids)\n",
    "\n",
    "    df_train[\"idx\"] = raw_datasets[\"train\"][\"idx\"]\n",
    "    df_train[\"text\"] = raw_datasets[\"train\"][\"text\"]\n",
    "    df_train[\"label\"] = raw_datasets[\"train\"][\"label\"]\n",
    "    \n",
    "    df_test = pd.DataFrame()\n",
    "    df_test[\"text\"] = raw_datasets[\"test\"][\"text\"]\n",
    "    df_test[\"label\"] = raw_datasets[\"test\"][\"label\"]\n",
    "\n",
    "#     print(df_train.head())\n",
    "#     print(os.getcwd())\n",
    "    df_train.to_csv(os.getcwd()+f\"/datasets/{dataset_name}/train.csv\", header = True, index = False)\n",
    "    df_test.to_csv(os.getcwd()+f\"/datasets/{dataset_name}/test.csv\", header = True, index = False)\n",
    "\n",
    "else:\n",
    "    df_train = pd.DataFrame()\n",
    "    df_train[\"idx\"] = raw_datasets[\"train\"][\"idx\"]\n",
    "    df_train[\"text\"] = raw_datasets[\"train\"][\"sentence\"]\n",
    "    df_train[\"label\"] = raw_datasets[\"train\"][\"label\"]\n",
    "    \n",
    "    df_test = pd.DataFrame()\n",
    "    df_test[\"text\"] = raw_datasets[\"validation\"][\"sentence\"]\n",
    "    df_test[\"label\"] = raw_datasets[\"validation\"][\"label\"]\n",
    "#     raw_datasets.save_to_disk(f\"datasets/{dataset_name}/with_idx\")\n",
    "\n",
    "    df_train.to_csv(os.getcwd()+f\"/datasets/{dataset_name}/train.csv\", header = True, index = False)\n",
    "    df_test.to_csv(os.getcwd()+f\"/datasets/{dataset_name}/test.csv\", header = True, index = False)\n",
    "\n",
    "\n"
   ]
  },
  {
   "cell_type": "code",
   "execution_count": 24,
   "id": "88b3caae",
   "metadata": {
    "pycharm": {
     "name": "#%%\n"
    }
   },
   "outputs": [
    {
     "name": "stdout",
     "output_type": "stream",
     "text": [
      "['ambiguous', 'easy', 'easy', 'easy', 'none', 'easy', 'none', 'none', 'easy', 'none', 'none', 'easy', 'none', 'ambiguous', 'ambiguous', 'easy', 'easy', 'easy', 'easy', 'easy', 'ambiguous', 'none', 'easy', 'ambiguous', 'easy', 'none', 'easy', 'none', 'easy', 'easy', 'easy', 'none', 'ambiguous', 'easy', 'easy', 'none', 'easy', 'easy', 'easy', 'ambiguous', 'easy', 'none', 'none', 'none', 'none', 'easy', 'easy', 'easy', 'ambiguous', 'none']\n"
     ]
    }
   ],
   "source": [
    "import json\n",
    "f = open(f'./dy_log/{dataset_name}/roberta-base/three_regions_data_indices.json')\n",
    "data = json.load(f)\n",
    "new_dict = {}\n",
    "category = []\n",
    "for line in data['hard']:\n",
    "    new_dict[line] = 'hard'\n",
    "for line in data['easy']:\n",
    "    new_dict[line] = 'easy'\n",
    "for line in data['ambiguous']:\n",
    "    new_dict[line] = 'ambiguous'\n",
    "\n",
    "for line in df_train['idx']:\n",
    "    if line not in new_dict.keys():\n",
    "        category.append('none')\n",
    "    else:\n",
    "        category.append(new_dict[line])\n",
    "\n",
    "print (category[:50])\n",
    "df_train['category'] = category\n",
    "\n",
    "df_train.to_csv(os.getcwd()+f\"/datasets/{dataset_name}/{dataset_name}_categorized.csv\", header = True, index = False)"
   ]
  },
  {
   "cell_type": "code",
   "execution_count": 26,
   "id": "9d9a60f3",
   "metadata": {},
   "outputs": [],
   "source": [
    "df_e = df_train.loc[df_train['category'] == \"easy\"]\n",
    "df_easy = pd.DataFrame()\n",
    "df_easy['text'] = df_e['text']\n",
    "df_easy['label'] = df_e['label']\n",
    "df_easy.to_csv(os.getcwd()+f\"/datasets/{dataset_name}/{dataset_name}_easy.csv\", header = True, index = False)"
   ]
  },
  {
   "cell_type": "code",
   "execution_count": 27,
   "id": "4bc028fd",
   "metadata": {},
   "outputs": [],
   "source": [
    "df_h = df_train.loc[df_train['category'] == \"hard\"]\n",
    "df_hard = pd.DataFrame()\n",
    "df_hard['text'] = df_h['text']\n",
    "df_hard['label'] = df_h['label']\n",
    "df_hard.to_csv(os.getcwd()+f\"/datasets/{dataset_name}/{dataset_name}_hard.csv\", header = True, index = False)"
   ]
  },
  {
   "cell_type": "code",
   "execution_count": 28,
   "id": "b172fd06",
   "metadata": {},
   "outputs": [],
   "source": [
    "df_a = df_train.loc[df_train['category'] == \"ambiguous\"]\n",
    "df_ambi = pd.DataFrame()\n",
    "df_ambi['text'] = df_a['text']\n",
    "df_ambi['label'] = df_a['label']\n",
    "df_ambi.to_csv(os.getcwd()+f\"/datasets/{dataset_name}/{dataset_name}_ambi.csv\", header = True, index = False)"
   ]
  },
  {
   "cell_type": "code",
   "execution_count": null,
   "id": "ea01413a",
   "metadata": {},
   "outputs": [],
   "source": []
  },
  {
   "cell_type": "code",
   "execution_count": 29,
   "id": "9fb32e0e",
   "metadata": {},
   "outputs": [],
   "source": [
    "df_t1= df_train.loc[df_train['category'] == \"ambiguous\"]\n",
    "df_t2 = df_t1.loc[df_t1['category'] == \"ambiguous\"]\n",
    "df_easy_hard = pd.DataFrame()\n",
    "df_easy_hard['text'] = df_t2['text']\n",
    "df_easy_hard['label'] = df_t2['label']\n",
    "df_easy_hard.to_csv(os.getcwd()+f\"/datasets/{dataset_name}/{dataset_name}_easy_hard.csv\", header = True, index = False)"
   ]
  },
  {
   "cell_type": "code",
   "execution_count": 20,
   "id": "266faae3",
   "metadata": {},
   "outputs": [
    {
     "data": {
      "text/plain": [
       "ambiguous    22225\n",
       "easy         22225\n",
       "none         21091\n",
       "hard          1808\n",
       "Name: category, dtype: int64"
      ]
     },
     "execution_count": 20,
     "metadata": {},
     "output_type": "execute_result"
    }
   ],
   "source": [
    "df_train[\"category\"].value_counts()"
   ]
  },
  {
   "cell_type": "code",
   "execution_count": 50,
   "id": "e82a41b3",
   "metadata": {},
   "outputs": [
    {
     "data": {
      "text/plain": [
       "(22225, 2)"
      ]
     },
     "execution_count": 50,
     "metadata": {},
     "output_type": "execute_result"
    }
   ],
   "source": [
    "df_easy_hard.shape"
   ]
  },
  {
   "cell_type": "code",
   "execution_count": 69,
   "id": "70451d24",
   "metadata": {},
   "outputs": [
    {
     "data": {
      "text/html": [
       "<div>\n",
       "<style scoped>\n",
       "    .dataframe tbody tr th:only-of-type {\n",
       "        vertical-align: middle;\n",
       "    }\n",
       "\n",
       "    .dataframe tbody tr th {\n",
       "        vertical-align: top;\n",
       "    }\n",
       "\n",
       "    .dataframe thead th {\n",
       "        text-align: right;\n",
       "    }\n",
       "</style>\n",
       "<table border=\"1\" class=\"dataframe\">\n",
       "  <thead>\n",
       "    <tr style=\"text-align: right;\">\n",
       "      <th></th>\n",
       "      <th>text</th>\n",
       "      <th>label</th>\n",
       "    </tr>\n",
       "  </thead>\n",
       "  <tbody>\n",
       "    <tr>\n",
       "      <th>0</th>\n",
       "      <td>I'm writing this review to give you a heads up...</td>\n",
       "      <td>0</td>\n",
       "    </tr>\n",
       "    <tr>\n",
       "      <th>1</th>\n",
       "      <td>Wing sauce is like water. Pretty much a lot of...</td>\n",
       "      <td>0</td>\n",
       "    </tr>\n",
       "    <tr>\n",
       "      <th>2</th>\n",
       "      <td>I drove by yesterday to get a sneak peak.  It ...</td>\n",
       "      <td>1</td>\n",
       "    </tr>\n",
       "    <tr>\n",
       "      <th>3</th>\n",
       "      <td>After waiting for almost 30 minutes to trade i...</td>\n",
       "      <td>0</td>\n",
       "    </tr>\n",
       "    <tr>\n",
       "      <th>4</th>\n",
       "      <td>I got 'new' tires from them and within two wee...</td>\n",
       "      <td>0</td>\n",
       "    </tr>\n",
       "    <tr>\n",
       "      <th>...</th>\n",
       "      <td>...</td>\n",
       "      <td>...</td>\n",
       "    </tr>\n",
       "    <tr>\n",
       "      <th>184795</th>\n",
       "      <td>When Corey sent the email about tickets being ...</td>\n",
       "      <td>1</td>\n",
       "    </tr>\n",
       "    <tr>\n",
       "      <th>184796</th>\n",
       "      <td>Wow, really?  Bought one item from them, a ham...</td>\n",
       "      <td>0</td>\n",
       "    </tr>\n",
       "    <tr>\n",
       "      <th>184797</th>\n",
       "      <td>Long line, inefficient staff. Maybe my expecta...</td>\n",
       "      <td>0</td>\n",
       "    </tr>\n",
       "    <tr>\n",
       "      <th>184798</th>\n",
       "      <td>Professional \\nFriendly\\nOn time AND affordabl...</td>\n",
       "      <td>1</td>\n",
       "    </tr>\n",
       "    <tr>\n",
       "      <th>184799</th>\n",
       "      <td>Phone calls always go to voicemail and message...</td>\n",
       "      <td>0</td>\n",
       "    </tr>\n",
       "  </tbody>\n",
       "</table>\n",
       "<p>184800 rows × 2 columns</p>\n",
       "</div>"
      ],
      "text/plain": [
       "                                                     text  label\n",
       "0       I'm writing this review to give you a heads up...      0\n",
       "1       Wing sauce is like water. Pretty much a lot of...      0\n",
       "2       I drove by yesterday to get a sneak peak.  It ...      1\n",
       "3       After waiting for almost 30 minutes to trade i...      0\n",
       "4       I got 'new' tires from them and within two wee...      0\n",
       "...                                                   ...    ...\n",
       "184795  When Corey sent the email about tickets being ...      1\n",
       "184796  Wow, really?  Bought one item from them, a ham...      0\n",
       "184797  Long line, inefficient staff. Maybe my expecta...      0\n",
       "184798  Professional \\nFriendly\\nOn time AND affordabl...      1\n",
       "184799  Phone calls always go to voicemail and message...      0\n",
       "\n",
       "[184800 rows x 2 columns]"
      ]
     },
     "execution_count": 69,
     "metadata": {},
     "output_type": "execute_result"
    }
   ],
   "source": [
    "pd.read_csv(os.getcwd()+f\"/datasets/{dataset_name}/{dataset_name}_easy_hard.csv\")"
   ]
  },
  {
   "cell_type": "markdown",
   "id": "2838aa8b",
   "metadata": {},
   "source": [
    "# Checking data"
   ]
  },
  {
   "cell_type": "code",
   "execution_count": 1,
   "id": "cd47f8db",
   "metadata": {},
   "outputs": [],
   "source": [
    "import pandas as pd\n",
    "import json"
   ]
  },
  {
   "cell_type": "code",
   "execution_count": 2,
   "id": "37f0c60c",
   "metadata": {},
   "outputs": [],
   "source": [
    "with open(f'./dy_log/imdb/roberta-base/three_regions_data_indices.json') as f:\n",
    "    data = json.load(f)\n",
    "f.close()"
   ]
  },
  {
   "cell_type": "code",
   "execution_count": 3,
   "id": "4b0f73d3",
   "metadata": {},
   "outputs": [
    {
     "data": {
      "text/plain": [
       "(8250, 8250, 8250)"
      ]
     },
     "execution_count": 3,
     "metadata": {},
     "output_type": "execute_result"
    }
   ],
   "source": [
    "len(data['hard']), len(data['easy']), len(data['ambiguous'])"
   ]
  },
  {
   "cell_type": "code",
   "execution_count": 5,
   "id": "085a59bf",
   "metadata": {},
   "outputs": [
    {
     "data": {
      "text/plain": [
       "(8250, 8250, 8250)"
      ]
     },
     "execution_count": 5,
     "metadata": {},
     "output_type": "execute_result"
    }
   ],
   "source": [
    "hard = set(data['hard'])\n",
    "easy = set(data['easy'])\n",
    "ambiguous = set(data['ambiguous'])\n",
    "len(hard), len(easy), len(ambiguous)"
   ]
  },
  {
   "cell_type": "code",
   "execution_count": 2,
   "id": "fd85cdb7",
   "metadata": {},
   "outputs": [
    {
     "data": {
      "text/html": [
       "<div>\n",
       "<style scoped>\n",
       "    .dataframe tbody tr th:only-of-type {\n",
       "        vertical-align: middle;\n",
       "    }\n",
       "\n",
       "    .dataframe tbody tr th {\n",
       "        vertical-align: top;\n",
       "    }\n",
       "\n",
       "    .dataframe thead th {\n",
       "        text-align: right;\n",
       "    }\n",
       "</style>\n",
       "<table border=\"1\" class=\"dataframe\">\n",
       "  <thead>\n",
       "    <tr style=\"text-align: right;\">\n",
       "      <th></th>\n",
       "      <th>idx</th>\n",
       "      <th>text</th>\n",
       "      <th>label</th>\n",
       "    </tr>\n",
       "  </thead>\n",
       "  <tbody>\n",
       "    <tr>\n",
       "      <th>0</th>\n",
       "      <td>0</td>\n",
       "      <td>I rented I AM CURIOUS-YELLOW from my video sto...</td>\n",
       "      <td>0</td>\n",
       "    </tr>\n",
       "    <tr>\n",
       "      <th>1</th>\n",
       "      <td>1</td>\n",
       "      <td>\"I Am Curious: Yellow\" is a risible and preten...</td>\n",
       "      <td>0</td>\n",
       "    </tr>\n",
       "    <tr>\n",
       "      <th>2</th>\n",
       "      <td>2</td>\n",
       "      <td>If only to avoid making this type of film in t...</td>\n",
       "      <td>0</td>\n",
       "    </tr>\n",
       "    <tr>\n",
       "      <th>3</th>\n",
       "      <td>3</td>\n",
       "      <td>This film was probably inspired by Godard's Ma...</td>\n",
       "      <td>0</td>\n",
       "    </tr>\n",
       "    <tr>\n",
       "      <th>4</th>\n",
       "      <td>4</td>\n",
       "      <td>Oh, brother...after hearing about this ridicul...</td>\n",
       "      <td>0</td>\n",
       "    </tr>\n",
       "    <tr>\n",
       "      <th>...</th>\n",
       "      <td>...</td>\n",
       "      <td>...</td>\n",
       "      <td>...</td>\n",
       "    </tr>\n",
       "    <tr>\n",
       "      <th>24995</th>\n",
       "      <td>24995</td>\n",
       "      <td>A hit at the time but now better categorised a...</td>\n",
       "      <td>1</td>\n",
       "    </tr>\n",
       "    <tr>\n",
       "      <th>24996</th>\n",
       "      <td>24996</td>\n",
       "      <td>I love this movie like no other. Another time ...</td>\n",
       "      <td>1</td>\n",
       "    </tr>\n",
       "    <tr>\n",
       "      <th>24997</th>\n",
       "      <td>24997</td>\n",
       "      <td>This film and it's sequel Barry Mckenzie holds...</td>\n",
       "      <td>1</td>\n",
       "    </tr>\n",
       "    <tr>\n",
       "      <th>24998</th>\n",
       "      <td>24998</td>\n",
       "      <td>'The Adventures Of Barry McKenzie' started lif...</td>\n",
       "      <td>1</td>\n",
       "    </tr>\n",
       "    <tr>\n",
       "      <th>24999</th>\n",
       "      <td>24999</td>\n",
       "      <td>The story centers around Barry McKenzie who mu...</td>\n",
       "      <td>1</td>\n",
       "    </tr>\n",
       "  </tbody>\n",
       "</table>\n",
       "<p>25000 rows × 3 columns</p>\n",
       "</div>"
      ],
      "text/plain": [
       "         idx                                               text  label\n",
       "0          0  I rented I AM CURIOUS-YELLOW from my video sto...      0\n",
       "1          1  \"I Am Curious: Yellow\" is a risible and preten...      0\n",
       "2          2  If only to avoid making this type of film in t...      0\n",
       "3          3  This film was probably inspired by Godard's Ma...      0\n",
       "4          4  Oh, brother...after hearing about this ridicul...      0\n",
       "...      ...                                                ...    ...\n",
       "24995  24995  A hit at the time but now better categorised a...      1\n",
       "24996  24996  I love this movie like no other. Another time ...      1\n",
       "24997  24997  This film and it's sequel Barry Mckenzie holds...      1\n",
       "24998  24998  'The Adventures Of Barry McKenzie' started lif...      1\n",
       "24999  24999  The story centers around Barry McKenzie who mu...      1\n",
       "\n",
       "[25000 rows x 3 columns]"
      ]
     },
     "execution_count": 2,
     "metadata": {},
     "output_type": "execute_result"
    }
   ],
   "source": [
    "train_df = pd.read_csv('datasets/imdb/train.csv')\n",
    "train_df"
   ]
  },
  {
   "cell_type": "code",
   "execution_count": 4,
   "id": "29209ccd",
   "metadata": {},
   "outputs": [
    {
     "data": {
      "text/html": [
       "<div>\n",
       "<style scoped>\n",
       "    .dataframe tbody tr th:only-of-type {\n",
       "        vertical-align: middle;\n",
       "    }\n",
       "\n",
       "    .dataframe tbody tr th {\n",
       "        vertical-align: top;\n",
       "    }\n",
       "\n",
       "    .dataframe thead th {\n",
       "        text-align: right;\n",
       "    }\n",
       "</style>\n",
       "<table border=\"1\" class=\"dataframe\">\n",
       "  <thead>\n",
       "    <tr style=\"text-align: right;\">\n",
       "      <th></th>\n",
       "      <th>text</th>\n",
       "      <th>label</th>\n",
       "    </tr>\n",
       "  </thead>\n",
       "  <tbody>\n",
       "    <tr>\n",
       "      <th>0</th>\n",
       "      <td>\"I Am Curious: Yellow\" is a risible and preten...</td>\n",
       "      <td>0</td>\n",
       "    </tr>\n",
       "    <tr>\n",
       "      <th>1</th>\n",
       "      <td>If only to avoid making this type of film in t...</td>\n",
       "      <td>0</td>\n",
       "    </tr>\n",
       "    <tr>\n",
       "      <th>2</th>\n",
       "      <td>This film was probably inspired by Godard's Ma...</td>\n",
       "      <td>0</td>\n",
       "    </tr>\n",
       "    <tr>\n",
       "      <th>3</th>\n",
       "      <td>I would put this at the top of my list of film...</td>\n",
       "      <td>0</td>\n",
       "    </tr>\n",
       "    <tr>\n",
       "      <th>4</th>\n",
       "      <td>Who are these \"They\"- the actors? the filmmake...</td>\n",
       "      <td>0</td>\n",
       "    </tr>\n",
       "    <tr>\n",
       "      <th>...</th>\n",
       "      <td>...</td>\n",
       "      <td>...</td>\n",
       "    </tr>\n",
       "    <tr>\n",
       "      <th>8245</th>\n",
       "      <td>Noni Hazlehurst, Colin Friels, Alice Garner, C...</td>\n",
       "      <td>1</td>\n",
       "    </tr>\n",
       "    <tr>\n",
       "      <th>8246</th>\n",
       "      <td>For a first film in a proposed series it achie...</td>\n",
       "      <td>1</td>\n",
       "    </tr>\n",
       "    <tr>\n",
       "      <th>8247</th>\n",
       "      <td>I enjoyed this movie. Unlike like some of the ...</td>\n",
       "      <td>1</td>\n",
       "    </tr>\n",
       "    <tr>\n",
       "      <th>8248</th>\n",
       "      <td>Like I said its a hidden surprise. It well wri...</td>\n",
       "      <td>1</td>\n",
       "    </tr>\n",
       "    <tr>\n",
       "      <th>8249</th>\n",
       "      <td>Very smart, sometimes shocking, I just love it...</td>\n",
       "      <td>1</td>\n",
       "    </tr>\n",
       "  </tbody>\n",
       "</table>\n",
       "<p>8250 rows × 2 columns</p>\n",
       "</div>"
      ],
      "text/plain": [
       "                                                   text  label\n",
       "0     \"I Am Curious: Yellow\" is a risible and preten...      0\n",
       "1     If only to avoid making this type of film in t...      0\n",
       "2     This film was probably inspired by Godard's Ma...      0\n",
       "3     I would put this at the top of my list of film...      0\n",
       "4     Who are these \"They\"- the actors? the filmmake...      0\n",
       "...                                                 ...    ...\n",
       "8245  Noni Hazlehurst, Colin Friels, Alice Garner, C...      1\n",
       "8246  For a first film in a proposed series it achie...      1\n",
       "8247  I enjoyed this movie. Unlike like some of the ...      1\n",
       "8248  Like I said its a hidden surprise. It well wri...      1\n",
       "8249  Very smart, sometimes shocking, I just love it...      1\n",
       "\n",
       "[8250 rows x 2 columns]"
      ]
     },
     "execution_count": 4,
     "metadata": {},
     "output_type": "execute_result"
    }
   ],
   "source": [
    "train_easy_df = pd.read_csv('datasets/imdb/imdb_easy.csv')\n",
    "train_easy_df"
   ]
  },
  {
   "cell_type": "code",
   "execution_count": 5,
   "id": "f03436e4",
   "metadata": {},
   "outputs": [
    {
     "data": {
      "text/html": [
       "<div>\n",
       "<style scoped>\n",
       "    .dataframe tbody tr th:only-of-type {\n",
       "        vertical-align: middle;\n",
       "    }\n",
       "\n",
       "    .dataframe tbody tr th {\n",
       "        vertical-align: top;\n",
       "    }\n",
       "\n",
       "    .dataframe thead th {\n",
       "        text-align: right;\n",
       "    }\n",
       "</style>\n",
       "<table border=\"1\" class=\"dataframe\">\n",
       "  <thead>\n",
       "    <tr style=\"text-align: right;\">\n",
       "      <th></th>\n",
       "      <th>text</th>\n",
       "      <th>label</th>\n",
       "    </tr>\n",
       "  </thead>\n",
       "  <tbody>\n",
       "    <tr>\n",
       "      <th>0</th>\n",
       "      <td>An actress making a movie in Africa is kidnapp...</td>\n",
       "      <td>0</td>\n",
       "    </tr>\n",
       "    <tr>\n",
       "      <th>1</th>\n",
       "      <td>This film seemed way too long even at only 75 ...</td>\n",
       "      <td>0</td>\n",
       "    </tr>\n",
       "    <tr>\n",
       "      <th>2</th>\n",
       "      <td>Sometime in 1998, Saban had acquired the right...</td>\n",
       "      <td>0</td>\n",
       "    </tr>\n",
       "    <tr>\n",
       "      <th>3</th>\n",
       "      <td>There are times when finishing a film one wish...</td>\n",
       "      <td>0</td>\n",
       "    </tr>\n",
       "    <tr>\n",
       "      <th>4</th>\n",
       "      <td>A Cinderella story made for adults who live in...</td>\n",
       "      <td>0</td>\n",
       "    </tr>\n",
       "    <tr>\n",
       "      <th>...</th>\n",
       "      <td>...</td>\n",
       "      <td>...</td>\n",
       "    </tr>\n",
       "    <tr>\n",
       "      <th>453</th>\n",
       "      <td>I love ghost stories in general, but I PARTICU...</td>\n",
       "      <td>1</td>\n",
       "    </tr>\n",
       "    <tr>\n",
       "      <th>454</th>\n",
       "      <td>Many critics have felt offended that R.W. Fass...</td>\n",
       "      <td>1</td>\n",
       "    </tr>\n",
       "    <tr>\n",
       "      <th>455</th>\n",
       "      <td>I first saw this film when it was transmitted ...</td>\n",
       "      <td>1</td>\n",
       "    </tr>\n",
       "    <tr>\n",
       "      <th>456</th>\n",
       "      <td>Master director Ching Siu Tung's perhaps most ...</td>\n",
       "      <td>1</td>\n",
       "    </tr>\n",
       "    <tr>\n",
       "      <th>457</th>\n",
       "      <td>Recap: It's business as usual at Louche's casi...</td>\n",
       "      <td>1</td>\n",
       "    </tr>\n",
       "  </tbody>\n",
       "</table>\n",
       "<p>458 rows × 2 columns</p>\n",
       "</div>"
      ],
      "text/plain": [
       "                                                  text  label\n",
       "0    An actress making a movie in Africa is kidnapp...      0\n",
       "1    This film seemed way too long even at only 75 ...      0\n",
       "2    Sometime in 1998, Saban had acquired the right...      0\n",
       "3    There are times when finishing a film one wish...      0\n",
       "4    A Cinderella story made for adults who live in...      0\n",
       "..                                                 ...    ...\n",
       "453  I love ghost stories in general, but I PARTICU...      1\n",
       "454  Many critics have felt offended that R.W. Fass...      1\n",
       "455  I first saw this film when it was transmitted ...      1\n",
       "456  Master director Ching Siu Tung's perhaps most ...      1\n",
       "457  Recap: It's business as usual at Louche's casi...      1\n",
       "\n",
       "[458 rows x 2 columns]"
      ]
     },
     "execution_count": 5,
     "metadata": {},
     "output_type": "execute_result"
    }
   ],
   "source": [
    "train_hard_df = pd.read_csv('datasets/imdb/imdb_hard.csv')\n",
    "train_hard_df"
   ]
  },
  {
   "cell_type": "code",
   "execution_count": 6,
   "id": "7efa63c4",
   "metadata": {},
   "outputs": [
    {
     "data": {
      "text/html": [
       "<div>\n",
       "<style scoped>\n",
       "    .dataframe tbody tr th:only-of-type {\n",
       "        vertical-align: middle;\n",
       "    }\n",
       "\n",
       "    .dataframe tbody tr th {\n",
       "        vertical-align: top;\n",
       "    }\n",
       "\n",
       "    .dataframe thead th {\n",
       "        text-align: right;\n",
       "    }\n",
       "</style>\n",
       "<table border=\"1\" class=\"dataframe\">\n",
       "  <thead>\n",
       "    <tr style=\"text-align: right;\">\n",
       "      <th></th>\n",
       "      <th>text</th>\n",
       "      <th>label</th>\n",
       "    </tr>\n",
       "  </thead>\n",
       "  <tbody>\n",
       "    <tr>\n",
       "      <th>0</th>\n",
       "      <td>I rented I AM CURIOUS-YELLOW from my video sto...</td>\n",
       "      <td>0</td>\n",
       "    </tr>\n",
       "    <tr>\n",
       "      <th>1</th>\n",
       "      <td>Its not the cast. A finer group of actors, you...</td>\n",
       "      <td>0</td>\n",
       "    </tr>\n",
       "    <tr>\n",
       "      <th>2</th>\n",
       "      <td>Today I found \"They All Laughed\" on VHS on sal...</td>\n",
       "      <td>0</td>\n",
       "    </tr>\n",
       "    <tr>\n",
       "      <th>3</th>\n",
       "      <td>If the crew behind \"Zombie Chronicles\" ever re...</td>\n",
       "      <td>0</td>\n",
       "    </tr>\n",
       "    <tr>\n",
       "      <th>4</th>\n",
       "      <td>En route to a small town that lays way off the...</td>\n",
       "      <td>0</td>\n",
       "    </tr>\n",
       "    <tr>\n",
       "      <th>...</th>\n",
       "      <td>...</td>\n",
       "      <td>...</td>\n",
       "    </tr>\n",
       "    <tr>\n",
       "      <th>8245</th>\n",
       "      <td>David Duchovny plays the lead role in this fil...</td>\n",
       "      <td>1</td>\n",
       "    </tr>\n",
       "    <tr>\n",
       "      <th>8246</th>\n",
       "      <td>This film has a lot of raw potential. The scri...</td>\n",
       "      <td>1</td>\n",
       "    </tr>\n",
       "    <tr>\n",
       "      <th>8247</th>\n",
       "      <td>David Duchovney creates a role that he was to ...</td>\n",
       "      <td>1</td>\n",
       "    </tr>\n",
       "    <tr>\n",
       "      <th>8248</th>\n",
       "      <td>A hit at the time but now better categorised a...</td>\n",
       "      <td>1</td>\n",
       "    </tr>\n",
       "    <tr>\n",
       "      <th>8249</th>\n",
       "      <td>'The Adventures Of Barry McKenzie' started lif...</td>\n",
       "      <td>1</td>\n",
       "    </tr>\n",
       "  </tbody>\n",
       "</table>\n",
       "<p>8250 rows × 2 columns</p>\n",
       "</div>"
      ],
      "text/plain": [
       "                                                   text  label\n",
       "0     I rented I AM CURIOUS-YELLOW from my video sto...      0\n",
       "1     Its not the cast. A finer group of actors, you...      0\n",
       "2     Today I found \"They All Laughed\" on VHS on sal...      0\n",
       "3     If the crew behind \"Zombie Chronicles\" ever re...      0\n",
       "4     En route to a small town that lays way off the...      0\n",
       "...                                                 ...    ...\n",
       "8245  David Duchovny plays the lead role in this fil...      1\n",
       "8246  This film has a lot of raw potential. The scri...      1\n",
       "8247  David Duchovney creates a role that he was to ...      1\n",
       "8248  A hit at the time but now better categorised a...      1\n",
       "8249  'The Adventures Of Barry McKenzie' started lif...      1\n",
       "\n",
       "[8250 rows x 2 columns]"
      ]
     },
     "execution_count": 6,
     "metadata": {},
     "output_type": "execute_result"
    }
   ],
   "source": [
    "train_ambi_df = pd.read_csv('datasets/imdb/imdb_ambi.csv')\n",
    "train_ambi_df"
   ]
  },
  {
   "cell_type": "code",
   "execution_count": 3,
   "id": "48a204c9",
   "metadata": {},
   "outputs": [
    {
     "data": {
      "text/html": [
       "<div>\n",
       "<style scoped>\n",
       "    .dataframe tbody tr th:only-of-type {\n",
       "        vertical-align: middle;\n",
       "    }\n",
       "\n",
       "    .dataframe tbody tr th {\n",
       "        vertical-align: top;\n",
       "    }\n",
       "\n",
       "    .dataframe thead th {\n",
       "        text-align: right;\n",
       "    }\n",
       "</style>\n",
       "<table border=\"1\" class=\"dataframe\">\n",
       "  <thead>\n",
       "    <tr style=\"text-align: right;\">\n",
       "      <th></th>\n",
       "      <th>idx</th>\n",
       "      <th>text</th>\n",
       "      <th>label</th>\n",
       "      <th>category</th>\n",
       "    </tr>\n",
       "  </thead>\n",
       "  <tbody>\n",
       "    <tr>\n",
       "      <th>0</th>\n",
       "      <td>0</td>\n",
       "      <td>I rented I AM CURIOUS-YELLOW from my video sto...</td>\n",
       "      <td>0</td>\n",
       "      <td>ambiguous</td>\n",
       "    </tr>\n",
       "    <tr>\n",
       "      <th>1</th>\n",
       "      <td>1</td>\n",
       "      <td>\"I Am Curious: Yellow\" is a risible and preten...</td>\n",
       "      <td>0</td>\n",
       "      <td>easy</td>\n",
       "    </tr>\n",
       "    <tr>\n",
       "      <th>2</th>\n",
       "      <td>2</td>\n",
       "      <td>If only to avoid making this type of film in t...</td>\n",
       "      <td>0</td>\n",
       "      <td>easy</td>\n",
       "    </tr>\n",
       "    <tr>\n",
       "      <th>3</th>\n",
       "      <td>3</td>\n",
       "      <td>This film was probably inspired by Godard's Ma...</td>\n",
       "      <td>0</td>\n",
       "      <td>easy</td>\n",
       "    </tr>\n",
       "    <tr>\n",
       "      <th>4</th>\n",
       "      <td>4</td>\n",
       "      <td>Oh, brother...after hearing about this ridicul...</td>\n",
       "      <td>0</td>\n",
       "      <td>none</td>\n",
       "    </tr>\n",
       "    <tr>\n",
       "      <th>...</th>\n",
       "      <td>...</td>\n",
       "      <td>...</td>\n",
       "      <td>...</td>\n",
       "      <td>...</td>\n",
       "    </tr>\n",
       "    <tr>\n",
       "      <th>24995</th>\n",
       "      <td>24995</td>\n",
       "      <td>A hit at the time but now better categorised a...</td>\n",
       "      <td>1</td>\n",
       "      <td>ambiguous</td>\n",
       "    </tr>\n",
       "    <tr>\n",
       "      <th>24996</th>\n",
       "      <td>24996</td>\n",
       "      <td>I love this movie like no other. Another time ...</td>\n",
       "      <td>1</td>\n",
       "      <td>none</td>\n",
       "    </tr>\n",
       "    <tr>\n",
       "      <th>24997</th>\n",
       "      <td>24997</td>\n",
       "      <td>This film and it's sequel Barry Mckenzie holds...</td>\n",
       "      <td>1</td>\n",
       "      <td>none</td>\n",
       "    </tr>\n",
       "    <tr>\n",
       "      <th>24998</th>\n",
       "      <td>24998</td>\n",
       "      <td>'The Adventures Of Barry McKenzie' started lif...</td>\n",
       "      <td>1</td>\n",
       "      <td>ambiguous</td>\n",
       "    </tr>\n",
       "    <tr>\n",
       "      <th>24999</th>\n",
       "      <td>24999</td>\n",
       "      <td>The story centers around Barry McKenzie who mu...</td>\n",
       "      <td>1</td>\n",
       "      <td>none</td>\n",
       "    </tr>\n",
       "  </tbody>\n",
       "</table>\n",
       "<p>25000 rows × 4 columns</p>\n",
       "</div>"
      ],
      "text/plain": [
       "         idx                                               text  label  \\\n",
       "0          0  I rented I AM CURIOUS-YELLOW from my video sto...      0   \n",
       "1          1  \"I Am Curious: Yellow\" is a risible and preten...      0   \n",
       "2          2  If only to avoid making this type of film in t...      0   \n",
       "3          3  This film was probably inspired by Godard's Ma...      0   \n",
       "4          4  Oh, brother...after hearing about this ridicul...      0   \n",
       "...      ...                                                ...    ...   \n",
       "24995  24995  A hit at the time but now better categorised a...      1   \n",
       "24996  24996  I love this movie like no other. Another time ...      1   \n",
       "24997  24997  This film and it's sequel Barry Mckenzie holds...      1   \n",
       "24998  24998  'The Adventures Of Barry McKenzie' started lif...      1   \n",
       "24999  24999  The story centers around Barry McKenzie who mu...      1   \n",
       "\n",
       "        category  \n",
       "0      ambiguous  \n",
       "1           easy  \n",
       "2           easy  \n",
       "3           easy  \n",
       "4           none  \n",
       "...          ...  \n",
       "24995  ambiguous  \n",
       "24996       none  \n",
       "24997       none  \n",
       "24998  ambiguous  \n",
       "24999       none  \n",
       "\n",
       "[25000 rows x 4 columns]"
      ]
     },
     "execution_count": 3,
     "metadata": {},
     "output_type": "execute_result"
    }
   ],
   "source": [
    "train_categorized_df = pd.read_csv('datasets/imdb/imdb_categorized.csv')\n",
    "train_categorized_df"
   ]
  },
  {
   "cell_type": "code",
   "execution_count": 4,
   "id": "c4f71429",
   "metadata": {},
   "outputs": [
    {
     "data": {
      "text/plain": [
       "ambiguous    8250\n",
       "easy         8250\n",
       "none         8042\n",
       "hard          458\n",
       "Name: category, dtype: int64"
      ]
     },
     "execution_count": 4,
     "metadata": {},
     "output_type": "execute_result"
    }
   ],
   "source": [
    "train_categorized_df.category.value_counts()"
   ]
  },
  {
   "cell_type": "code",
   "execution_count": 8,
   "id": "1a084f55",
   "metadata": {},
   "outputs": [
    {
     "data": {
      "text/plain": [
       "idx                                                     17857\n",
       "text        Well, some people would say that this particul...\n",
       "label                                                       1\n",
       "category                                            ambiguous\n",
       "Name: 17857, dtype: object"
      ]
     },
     "execution_count": 8,
     "metadata": {},
     "output_type": "execute_result"
    }
   ],
   "source": [
    "train_categorized_df.iloc[17857]"
   ]
  },
  {
   "cell_type": "code",
   "execution_count": null,
   "id": "c533bf80",
   "metadata": {},
   "outputs": [],
   "source": []
  }
 ],
 "metadata": {
  "kernelspec": {
   "display_name": "Python 3 (ipykernel)",
   "language": "python",
   "name": "python3"
  },
  "language_info": {
   "codemirror_mode": {
    "name": "ipython",
    "version": 3
   },
   "file_extension": ".py",
   "mimetype": "text/x-python",
   "name": "python",
   "nbconvert_exporter": "python",
   "pygments_lexer": "ipython3",
   "version": "3.10.8"
  }
 },
 "nbformat": 4,
 "nbformat_minor": 5
}
