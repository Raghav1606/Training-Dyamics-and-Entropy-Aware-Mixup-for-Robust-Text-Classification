{
 "cells": [
  {
   "cell_type": "code",
   "execution_count": 1,
   "id": "060153f0",
   "metadata": {
    "pycharm": {
     "name": "#%%\n"
    }
   },
   "outputs": [
    {
     "data": {
      "text/plain": [
       "'/projects/metis2/anubha/HW2/Data_Cartography/notebooks'"
      ]
     },
     "execution_count": 1,
     "metadata": {},
     "output_type": "execute_result"
    }
   ],
   "source": [
    "pwd"
   ]
  },
  {
   "cell_type": "code",
   "execution_count": 67,
   "id": "743ca5da",
   "metadata": {
    "pycharm": {
     "name": "#%%\n"
    }
   },
   "outputs": [
    {
     "name": "stdout",
     "output_type": "stream",
     "text": [
      "Requirement already satisfied: datasets in /projects/metis2/anubha/miniconda3/envs/envname/lib/python3.10/site-packages (2.6.1)\n",
      "Requirement already satisfied: numpy>=1.17 in /projects/metis2/anubha/miniconda3/envs/envname/lib/python3.10/site-packages (from datasets) (1.23.3)\n",
      "Requirement already satisfied: pyarrow>=6.0.0 in /projects/metis2/anubha/miniconda3/envs/envname/lib/python3.10/site-packages (from datasets) (8.0.0)\n",
      "Requirement already satisfied: dill<0.3.6 in /projects/metis2/anubha/miniconda3/envs/envname/lib/python3.10/site-packages (from datasets) (0.3.5.1)\n",
      "Requirement already satisfied: pandas in /projects/metis2/anubha/miniconda3/envs/envname/lib/python3.10/site-packages (from datasets) (1.4.4)\n",
      "Requirement already satisfied: requests>=2.19.0 in /projects/metis2/anubha/miniconda3/envs/envname/lib/python3.10/site-packages (from datasets) (2.28.1)\n",
      "Requirement already satisfied: tqdm>=4.62.1 in /projects/metis2/anubha/miniconda3/envs/envname/lib/python3.10/site-packages (from datasets) (4.64.1)\n",
      "Requirement already satisfied: xxhash in /projects/metis2/anubha/miniconda3/envs/envname/lib/python3.10/site-packages (from datasets) (0.0.0)\n",
      "Requirement already satisfied: multiprocess in /projects/metis2/anubha/miniconda3/envs/envname/lib/python3.10/site-packages (from datasets) (0.70.12.2)\n",
      "Requirement already satisfied: fsspec[http]>=2021.11.1 in /projects/metis2/anubha/miniconda3/envs/envname/lib/python3.10/site-packages (from datasets) (2022.10.0)\n",
      "Requirement already satisfied: aiohttp in /projects/metis2/anubha/miniconda3/envs/envname/lib/python3.10/site-packages (from datasets) (3.8.1)\n",
      "Requirement already satisfied: huggingface-hub<1.0.0,>=0.2.0 in /projects/metis2/anubha/miniconda3/envs/envname/lib/python3.10/site-packages/huggingface_hub-0.10.1-py3.8.egg (from datasets) (0.10.1)\n",
      "Requirement already satisfied: packaging in /projects/metis2/anubha/miniconda3/envs/envname/lib/python3.10/site-packages (from datasets) (21.3)\n",
      "Requirement already satisfied: responses<0.19 in /projects/metis2/anubha/miniconda3/envs/envname/lib/python3.10/site-packages (from datasets) (0.18.0)\n",
      "Requirement already satisfied: pyyaml>=5.1 in /projects/metis2/anubha/miniconda3/envs/envname/lib/python3.10/site-packages (from datasets) (6.0)\n",
      "Requirement already satisfied: attrs>=17.3.0 in /projects/metis2/anubha/miniconda3/envs/envname/lib/python3.10/site-packages (from aiohttp->datasets) (22.1.0)\n",
      "Requirement already satisfied: async-timeout<5.0,>=4.0.0a3 in /projects/metis2/anubha/miniconda3/envs/envname/lib/python3.10/site-packages (from aiohttp->datasets) (4.0.2)\n",
      "Requirement already satisfied: multidict<7.0,>=4.5 in /projects/metis2/anubha/miniconda3/envs/envname/lib/python3.10/site-packages (from aiohttp->datasets) (6.0.2)\n",
      "Requirement already satisfied: yarl<2.0,>=1.0 in /projects/metis2/anubha/miniconda3/envs/envname/lib/python3.10/site-packages (from aiohttp->datasets) (1.7.2)\n",
      "Requirement already satisfied: aiosignal>=1.1.2 in /projects/metis2/anubha/miniconda3/envs/envname/lib/python3.10/site-packages (from aiohttp->datasets) (1.2.0)\n",
      "Requirement already satisfied: charset-normalizer<3.0,>=2.0 in /projects/metis2/anubha/miniconda3/envs/envname/lib/python3.10/site-packages (from aiohttp->datasets) (2.0.4)\n",
      "Requirement already satisfied: frozenlist>=1.1.1 in /projects/metis2/anubha/miniconda3/envs/envname/lib/python3.10/site-packages (from aiohttp->datasets) (1.2.0)\n",
      "Requirement already satisfied: filelock in /projects/metis2/anubha/miniconda3/envs/envname/lib/python3.10/site-packages (from huggingface-hub<1.0.0,>=0.2.0->datasets) (3.6.0)\n",
      "Requirement already satisfied: typing-extensions>=3.7.4.3 in /projects/metis2/anubha/miniconda3/envs/envname/lib/python3.10/site-packages (from huggingface-hub<1.0.0,>=0.2.0->datasets) (4.3.0)\n",
      "Requirement already satisfied: pyparsing!=3.0.5,>=2.0.2 in /projects/metis2/anubha/miniconda3/envs/envname/lib/python3.10/site-packages (from packaging->datasets) (3.0.9)\n",
      "Requirement already satisfied: idna<4,>=2.5 in /projects/metis2/anubha/miniconda3/envs/envname/lib/python3.10/site-packages (from requests>=2.19.0->datasets) (3.4)\n",
      "Requirement already satisfied: certifi>=2017.4.17 in /projects/metis2/anubha/miniconda3/envs/envname/lib/python3.10/site-packages (from requests>=2.19.0->datasets) (2022.9.24)\n",
      "Requirement already satisfied: urllib3<1.27,>=1.21.1 in /projects/metis2/anubha/miniconda3/envs/envname/lib/python3.10/site-packages (from requests>=2.19.0->datasets) (1.26.12)\n",
      "Requirement already satisfied: python-dateutil>=2.8.1 in /projects/metis2/anubha/miniconda3/envs/envname/lib/python3.10/site-packages (from pandas->datasets) (2.8.2)\n",
      "Requirement already satisfied: pytz>=2020.1 in /projects/metis2/anubha/miniconda3/envs/envname/lib/python3.10/site-packages (from pandas->datasets) (2022.1)\n",
      "Requirement already satisfied: six>=1.5 in /projects/metis2/anubha/miniconda3/envs/envname/lib/python3.10/site-packages (from python-dateutil>=2.8.1->pandas->datasets) (1.16.0)\n"
     ]
    }
   ],
   "source": [
    "import json\n",
    "!pip install datasets\n",
    "from datasets import load_dataset"
   ]
  },
  {
   "cell_type": "code",
   "execution_count": 68,
   "id": "e28014a9",
   "metadata": {
    "pycharm": {
     "name": "#%%\n"
    }
   },
   "outputs": [
    {
     "name": "stderr",
     "output_type": "stream",
     "text": [
      "Found cached dataset yelp_polarity (/home/anubhak/.cache/huggingface/datasets/yelp_polarity/plain_text/1.0.0/14f90415c754f47cf9087eadac25823a395fef4400c7903c5897f55cfaaa6f61)\n"
     ]
    },
    {
     "data": {
      "application/vnd.jupyter.widget-view+json": {
       "model_id": "67b9c983a2a84267836a1eec513ee23c",
       "version_major": 2,
       "version_minor": 0
      },
      "text/plain": [
       "  0%|          | 0/2 [00:00<?, ?it/s]"
      ]
     },
     "metadata": {},
     "output_type": "display_data"
    }
   ],
   "source": [
    "dataset_name = 'yelp_polarity'\n",
    "raw_datasets = load_dataset(dataset_name)"
   ]
  },
  {
   "cell_type": "code",
   "execution_count": 15,
   "id": "7c66998c",
   "metadata": {},
   "outputs": [
    {
     "name": "stdout",
     "output_type": "stream",
     "text": [
      "/projects/metis2/anubha/HW2/Data_Cartography\n"
     ]
    }
   ],
   "source": [
    "cd .."
   ]
  },
  {
   "cell_type": "code",
   "execution_count": 25,
   "id": "9a7f4042",
   "metadata": {
    "pycharm": {
     "name": "#%%\n"
    }
   },
   "outputs": [
    {
     "name": "stderr",
     "output_type": "stream",
     "text": [
      "Using custom data configuration default-aa75e1c938c9c7c5\n",
      "Found cached dataset csv (/home/anubhak/.cache/huggingface/datasets/csv/default-aa75e1c938c9c7c5/0.0.0/6b34fb8fcf56f7c8ba51dc895bfa2bfbe43546f190a60fcf74bb5e8afdcc2317)\n"
     ]
    },
    {
     "data": {
      "application/vnd.jupyter.widget-view+json": {
       "model_id": "9c2d712002774f118193aa9dad9dce50",
       "version_major": 2,
       "version_minor": 0
      },
      "text/plain": [
       "  0%|          | 0/2 [00:00<?, ?it/s]"
      ]
     },
     "metadata": {},
     "output_type": "display_data"
    },
    {
     "name": "stdout",
     "output_type": "stream",
     "text": [
      "DatasetDict({\n",
      "    train: Dataset({\n",
      "        features: ['text', 'label'],\n",
      "        num_rows: 4459\n",
      "    })\n",
      "    test: Dataset({\n",
      "        features: ['text', 'label'],\n",
      "        num_rows: 1115\n",
      "    })\n",
      "})\n"
     ]
    }
   ],
   "source": [
    "\n",
    "import datasets\n",
    "from datasets import load_dataset, load_metric\n",
    "# For custom datasets\n",
    "data_files = {}\n",
    "data_files[\"train\"] = \"datasets/spam/train_spam.csv\"\n",
    "data_files[\"test\"] = \"datasets/spam/test_spam.csv\"\n",
    "extension = \"csv\"\n",
    "# print(extension)\n",
    "raw_datasets = load_dataset(extension, data_files=data_files)\n",
    "# raw_datasets['train'] = raw_datasets['train'].applymap(str)\n",
    "\n",
    "print(raw_datasets)"
   ]
  },
  {
   "cell_type": "code",
   "execution_count": 26,
   "id": "f64aad41",
   "metadata": {
    "pycharm": {
     "name": "#%%\n"
    }
   },
   "outputs": [
    {
     "name": "stderr",
     "output_type": "stream",
     "text": [
      "Loading cached processed dataset at /home/anubhak/.cache/huggingface/datasets/csv/default-aa75e1c938c9c7c5/0.0.0/6b34fb8fcf56f7c8ba51dc895bfa2bfbe43546f190a60fcf74bb5e8afdcc2317/cache-cbec591d70773a54.arrow\n",
      "Loading cached processed dataset at /home/anubhak/.cache/huggingface/datasets/csv/default-aa75e1c938c9c7c5/0.0.0/6b34fb8fcf56f7c8ba51dc895bfa2bfbe43546f190a60fcf74bb5e8afdcc2317/cache-6a21fc15bf5ee325.arrow\n",
      "Loading cached processed dataset at /home/anubhak/.cache/huggingface/datasets/csv/default-aa75e1c938c9c7c5/0.0.0/6b34fb8fcf56f7c8ba51dc895bfa2bfbe43546f190a60fcf74bb5e8afdcc2317/cache-7a8755b181f80420.arrow\n"
     ]
    },
    {
     "name": "stdout",
     "output_type": "stream",
     "text": [
      "   idx                                               text  label\n",
      "0    0  FREE2DAY sexy St George's Day pic of Jordan!Tx...      0\n",
      "1    1           Armand says get your ass over to epsilon      1\n",
      "2    2            Lol now I'm after that hot air balloon!      1\n",
      "3    3  You know, wot people wear. T shirts, jumpers, ...      1\n",
      "4    4  Good morning, my Love ... I go to sleep now an...      1\n",
      "/projects/metis2/anubha/HW2/Data_Cartography\n"
     ]
    }
   ],
   "source": [
    "dataset_name = \"spam\"\n",
    "import pandas as pd\n",
    "import os\n",
    "# remove samples with label -1\n",
    "raw_datasets['train'] = raw_datasets['train'].filter(lambda x:x['label']!=-1)\n",
    "raw_datasets['test'] = raw_datasets['test'].filter(lambda x:x['label']!=-1)\n",
    "\n",
    "df_train = pd.DataFrame()\n",
    "if dataset_name!= \"sst2\":\n",
    "    ids = list(range(len(raw_datasets['train'])))\n",
    "    raw_datasets['train'] = raw_datasets['train'].add_column('idx',ids)\n",
    "\n",
    "    df_train[\"idx\"] = raw_datasets[\"train\"][\"idx\"]\n",
    "    df_train[\"text\"] = raw_datasets[\"train\"][\"text\"]\n",
    "    df_train[\"label\"] = raw_datasets[\"train\"][\"label\"]\n",
    "    \n",
    "    df_test = pd.DataFrame()\n",
    "    df_test[\"text\"] = raw_datasets[\"test\"][\"text\"]\n",
    "    df_test[\"label\"] = raw_datasets[\"test\"][\"label\"]\n",
    "\n",
    "    print(df_train.head())\n",
    "    print(os.getcwd())\n",
    "    df_train.to_csv(os.getcwd()+f\"/{dataset_name}_train.csv\", header = True, index = False)\n",
    "    df_test.to_csv(os.getcwd()+f\"/{dataset_name}_test.csv\", header = True, index = False)\n",
    "\n",
    "else:\n",
    "    df_train = pd.DataFrame()\n",
    "    df_train[\"idx\"] = raw_datasets[\"train\"][\"idx\"]\n",
    "    df_train[\"text\"] = raw_datasets[\"train\"][\"sentence\"]\n",
    "    df_train[\"label\"] = raw_datasets[\"train\"][\"label\"]\n",
    "    \n",
    "    df_test = pd.DataFrame()\n",
    "    df_test[\"text\"] = raw_datasets[\"validation\"][\"sentence\"]\n",
    "    df_test[\"label\"] = raw_datasets[\"validation\"][\"label\"]\n",
    "#     raw_datasets.save_to_disk(f\"datasets/{dataset_name}/with_idx\")\n",
    "\n",
    "    df_train.to_csv(os.getcwd()+f\"/datasets/{dataset_name}/train.csv\", header = True, index = False)\n",
    "    df_test.to_csv(os.getcwd()+f\"/datasets/{dataset_name}/test.csv\", header = True, index = False)\n",
    "\n",
    "\n"
   ]
  },
  {
   "cell_type": "code",
   "execution_count": 31,
   "id": "38b5e65c",
   "metadata": {},
   "outputs": [
    {
     "data": {
      "text/plain": [
       "'/projects/metis2/anubha/HW2/Data_Cartography'"
      ]
     },
     "execution_count": 31,
     "metadata": {},
     "output_type": "execute_result"
    }
   ],
   "source": [
    "os.getcwd()"
   ]
  },
  {
   "cell_type": "code",
   "execution_count": 32,
   "id": "88b3caae",
   "metadata": {
    "pycharm": {
     "name": "#%%\n"
    }
   },
   "outputs": [
    {
     "name": "stdout",
     "output_type": "stream",
     "text": [
      "['ambiguous', 'ambiguous', 'ambiguous', 'none', 'easy', 'ambiguous', 'easy', 'none', 'ambiguous', 'none', 'ambiguous', 'easy', 'easy', 'easy', 'none', 'ambiguous', 'easy', 'ambiguous', 'ambiguous', 'easy', 'none', 'ambiguous', 'easy', 'ambiguous', 'none', 'easy', 'ambiguous', 'none', 'ambiguous', 'easy', 'easy', 'ambiguous', 'easy', 'hard', 'ambiguous', 'easy', 'none', 'easy', 'none', 'hard', 'ambiguous', 'ambiguous', 'easy', 'none', 'ambiguous', 'ambiguous', 'easy', 'none', 'ambiguous', 'ambiguous']\n"
     ]
    }
   ],
   "source": [
    "import json\n",
    "f = open(f'./dy_log/{dataset_name}/roberta_base/three_regions_data_indices.json')\n",
    "data = json.load(f)\n",
    "new_dict = {}\n",
    "category = []\n",
    "for line in data['hard']:\n",
    "    new_dict[line] = 'hard'\n",
    "for line in data['easy']:\n",
    "    new_dict[line] = 'easy'\n",
    "for line in data['ambiguous']:\n",
    "    new_dict[line] = 'ambiguous'\n",
    "\n",
    "for line in df_train['idx']:\n",
    "    if line not in new_dict.keys():\n",
    "        category.append('none')\n",
    "    else:\n",
    "        category.append(new_dict[line])\n",
    "\n",
    "print (category[:50])\n",
    "df_train['category'] = category\n",
    "\n",
    "df_train.to_csv(os.getcwd()+f\"/datasets/{dataset_name}/{dataset_name}_categorized.csv\", header = True, index = False)"
   ]
  },
  {
   "cell_type": "code",
   "execution_count": 33,
   "id": "2e0d461a",
   "metadata": {
    "pycharm": {
     "name": "#%%\n"
    }
   },
   "outputs": [
    {
     "data": {
      "text/plain": [
       "(4459, 4)"
      ]
     },
     "execution_count": 33,
     "metadata": {},
     "output_type": "execute_result"
    }
   ],
   "source": [
    "df_train.shape"
   ]
  },
  {
   "cell_type": "code",
   "execution_count": null,
   "id": "9d439d15",
   "metadata": {},
   "outputs": [],
   "source": []
  },
  {
   "cell_type": "code",
   "execution_count": null,
   "id": "66e9f13a",
   "metadata": {},
   "outputs": [],
   "source": []
  },
  {
   "cell_type": "code",
   "execution_count": 34,
   "id": "9d9a60f3",
   "metadata": {},
   "outputs": [],
   "source": [
    "df_e = df_train.loc[df_train['category'] == \"easy\"]\n",
    "df_easy = pd.DataFrame()\n",
    "df_easy['text'] = df_e['text']\n",
    "df_easy['label'] = df_e['label']\n",
    "df_easy.to_csv(os.getcwd()+f\"/datasets/{dataset_name}/{dataset_name}_easy.csv\", header = True, index = False)"
   ]
  },
  {
   "cell_type": "code",
   "execution_count": 35,
   "id": "4bc028fd",
   "metadata": {},
   "outputs": [],
   "source": [
    "df_h = df_train.loc[df_train['category'] == \"hard\"]\n",
    "df_hard = pd.DataFrame()\n",
    "df_hard['text'] = df_h['text']\n",
    "df_hard['label'] = df_h['label']\n",
    "df_hard.to_csv(os.getcwd()+f\"/datasets/{dataset_name}/{dataset_name}_hard.csv\", header = True, index = False)"
   ]
  },
  {
   "cell_type": "code",
   "execution_count": 36,
   "id": "b172fd06",
   "metadata": {},
   "outputs": [],
   "source": [
    "df_a = df_train.loc[df_train['category'] == \"ambiguous\"]\n",
    "df_ambi = pd.DataFrame()\n",
    "df_ambi['text'] = df_a['text']\n",
    "df_ambi['label'] = df_a['label']\n",
    "df_ambi.to_csv(os.getcwd()+f\"/datasets/{dataset_name}/{dataset_name}_ambi.csv\", header = True, index = False)"
   ]
  },
  {
   "cell_type": "code",
   "execution_count": null,
   "id": "ea01413a",
   "metadata": {},
   "outputs": [],
   "source": []
  },
  {
   "cell_type": "code",
   "execution_count": 37,
   "id": "9fb32e0e",
   "metadata": {},
   "outputs": [],
   "source": [
    "df_t1= df_train.loc[df_train['category'] == \"easy\"]\n",
    "df_t2 = df_train.loc[df_train['category'] == \"ambiguous\"]\n",
    "\n",
    "df_easy= pd.DataFrame()\n",
    "df_easy['text'] = df_t1['text']\n",
    "df_easy['label'] = df_t1['label']\n",
    "df_hard = pd.DataFrame()\n",
    "df_hard['text'] = df_t2['text']\n",
    "df_hard['label'] = df_t2['label']\n",
    "\n",
    "df_easy_hard = pd.DataFrame()\n",
    "df_easy_hard = pd.concat([df_easy, df_hard])\n",
    "\n",
    "df_easy_hard.sample(frac=1)\n",
    "df_easy_hard.to_csv(os.getcwd()+f\"/datasets/{dataset_name}/{dataset_name}_easy_ambi.csv\", header = True, index = False)"
   ]
  },
  {
   "cell_type": "code",
   "execution_count": 38,
   "id": "d25664e7",
   "metadata": {},
   "outputs": [
    {
     "data": {
      "text/html": [
       "<div>\n",
       "<style scoped>\n",
       "    .dataframe tbody tr th:only-of-type {\n",
       "        vertical-align: middle;\n",
       "    }\n",
       "\n",
       "    .dataframe tbody tr th {\n",
       "        vertical-align: top;\n",
       "    }\n",
       "\n",
       "    .dataframe thead th {\n",
       "        text-align: right;\n",
       "    }\n",
       "</style>\n",
       "<table border=\"1\" class=\"dataframe\">\n",
       "  <thead>\n",
       "    <tr style=\"text-align: right;\">\n",
       "      <th></th>\n",
       "      <th>text</th>\n",
       "      <th>label</th>\n",
       "    </tr>\n",
       "  </thead>\n",
       "  <tbody>\n",
       "    <tr>\n",
       "      <th>4</th>\n",
       "      <td>Good morning, my Love ... I go to sleep now an...</td>\n",
       "      <td>1</td>\n",
       "    </tr>\n",
       "    <tr>\n",
       "      <th>6</th>\n",
       "      <td>Sorry . I will be able to get to you. See you ...</td>\n",
       "      <td>1</td>\n",
       "    </tr>\n",
       "    <tr>\n",
       "      <th>11</th>\n",
       "      <td>It has issues right now. Ill fix for her by to...</td>\n",
       "      <td>1</td>\n",
       "    </tr>\n",
       "    <tr>\n",
       "      <th>12</th>\n",
       "      <td>Wah lucky man... Then can save money... Hee...</td>\n",
       "      <td>1</td>\n",
       "    </tr>\n",
       "    <tr>\n",
       "      <th>13</th>\n",
       "      <td>somewhere out there beneath the pale moon ligh...</td>\n",
       "      <td>1</td>\n",
       "    </tr>\n",
       "    <tr>\n",
       "      <th>...</th>\n",
       "      <td>...</td>\n",
       "      <td>...</td>\n",
       "    </tr>\n",
       "    <tr>\n",
       "      <th>4440</th>\n",
       "      <td>I will vote for wherever my heart guides me</td>\n",
       "      <td>1</td>\n",
       "    </tr>\n",
       "    <tr>\n",
       "      <th>4445</th>\n",
       "      <td>Do you want bold 2 or bb torch</td>\n",
       "      <td>1</td>\n",
       "    </tr>\n",
       "    <tr>\n",
       "      <th>4449</th>\n",
       "      <td>Your board is working fine. The issue of overh...</td>\n",
       "      <td>1</td>\n",
       "    </tr>\n",
       "    <tr>\n",
       "      <th>4453</th>\n",
       "      <td>LORD OF THE RINGS:RETURN OF THE KING in store ...</td>\n",
       "      <td>0</td>\n",
       "    </tr>\n",
       "    <tr>\n",
       "      <th>4455</th>\n",
       "      <td>ree entry in 2 a weekly comp for a chance to w...</td>\n",
       "      <td>0</td>\n",
       "    </tr>\n",
       "  </tbody>\n",
       "</table>\n",
       "<p>2942 rows × 2 columns</p>\n",
       "</div>"
      ],
      "text/plain": [
       "                                                   text  label\n",
       "4     Good morning, my Love ... I go to sleep now an...      1\n",
       "6     Sorry . I will be able to get to you. See you ...      1\n",
       "11    It has issues right now. Ill fix for her by to...      1\n",
       "12       Wah lucky man... Then can save money... Hee...      1\n",
       "13    somewhere out there beneath the pale moon ligh...      1\n",
       "...                                                 ...    ...\n",
       "4440        I will vote for wherever my heart guides me      1\n",
       "4445                     Do you want bold 2 or bb torch      1\n",
       "4449  Your board is working fine. The issue of overh...      1\n",
       "4453  LORD OF THE RINGS:RETURN OF THE KING in store ...      0\n",
       "4455  ree entry in 2 a weekly comp for a chance to w...      0\n",
       "\n",
       "[2942 rows x 2 columns]"
      ]
     },
     "execution_count": 38,
     "metadata": {},
     "output_type": "execute_result"
    }
   ],
   "source": [
    "df_easy_hard"
   ]
  },
  {
   "cell_type": "code",
   "execution_count": 65,
   "id": "266faae3",
   "metadata": {},
   "outputs": [
    {
     "data": {
      "text/plain": [
       "ambiguous    22225\n",
       "easy         22225\n",
       "none         21091\n",
       "hard          1808\n",
       "Name: category, dtype: int64"
      ]
     },
     "execution_count": 65,
     "metadata": {},
     "output_type": "execute_result"
    }
   ],
   "source": [
    "df_train[\"category\"].value_counts()"
   ]
  },
  {
   "cell_type": "code",
   "execution_count": 22,
   "id": "e82a41b3",
   "metadata": {},
   "outputs": [
    {
     "data": {
      "text/html": [
       "<div>\n",
       "<style scoped>\n",
       "    .dataframe tbody tr th:only-of-type {\n",
       "        vertical-align: middle;\n",
       "    }\n",
       "\n",
       "    .dataframe tbody tr th {\n",
       "        vertical-align: top;\n",
       "    }\n",
       "\n",
       "    .dataframe thead th {\n",
       "        text-align: right;\n",
       "    }\n",
       "</style>\n",
       "<table border=\"1\" class=\"dataframe\">\n",
       "  <thead>\n",
       "    <tr style=\"text-align: right;\">\n",
       "      <th></th>\n",
       "      <th>idx</th>\n",
       "      <th>text</th>\n",
       "      <th>label</th>\n",
       "      <th>category</th>\n",
       "    </tr>\n",
       "  </thead>\n",
       "  <tbody>\n",
       "    <tr>\n",
       "      <th>2</th>\n",
       "      <td>2</td>\n",
       "      <td>that loves its characters and communicates som...</td>\n",
       "      <td>1</td>\n",
       "      <td>easy</td>\n",
       "    </tr>\n",
       "    <tr>\n",
       "      <th>15</th>\n",
       "      <td>15</td>\n",
       "      <td>the greatest musicians</td>\n",
       "      <td>1</td>\n",
       "      <td>easy</td>\n",
       "    </tr>\n",
       "    <tr>\n",
       "      <th>17</th>\n",
       "      <td>17</td>\n",
       "      <td>with his usual intelligence and subtlety</td>\n",
       "      <td>1</td>\n",
       "      <td>easy</td>\n",
       "    </tr>\n",
       "    <tr>\n",
       "      <th>19</th>\n",
       "      <td>19</td>\n",
       "      <td>swimming is above all about a young woman 's f...</td>\n",
       "      <td>1</td>\n",
       "      <td>easy</td>\n",
       "    </tr>\n",
       "    <tr>\n",
       "      <th>22</th>\n",
       "      <td>22</td>\n",
       "      <td>a smile on your face</td>\n",
       "      <td>1</td>\n",
       "      <td>easy</td>\n",
       "    </tr>\n",
       "    <tr>\n",
       "      <th>...</th>\n",
       "      <td>...</td>\n",
       "      <td>...</td>\n",
       "      <td>...</td>\n",
       "      <td>...</td>\n",
       "    </tr>\n",
       "    <tr>\n",
       "      <th>67328</th>\n",
       "      <td>67328</td>\n",
       "      <td>is nothing short of a great one .</td>\n",
       "      <td>1</td>\n",
       "      <td>easy</td>\n",
       "    </tr>\n",
       "    <tr>\n",
       "      <th>67333</th>\n",
       "      <td>67333</td>\n",
       "      <td>comedy ensemble</td>\n",
       "      <td>1</td>\n",
       "      <td>easy</td>\n",
       "    </tr>\n",
       "    <tr>\n",
       "      <th>67335</th>\n",
       "      <td>67335</td>\n",
       "      <td>brilliant movie</td>\n",
       "      <td>1</td>\n",
       "      <td>easy</td>\n",
       "    </tr>\n",
       "    <tr>\n",
       "      <th>67338</th>\n",
       "      <td>67338</td>\n",
       "      <td>polished ,</td>\n",
       "      <td>1</td>\n",
       "      <td>easy</td>\n",
       "    </tr>\n",
       "    <tr>\n",
       "      <th>67344</th>\n",
       "      <td>67344</td>\n",
       "      <td>a delightful comedy</td>\n",
       "      <td>1</td>\n",
       "      <td>easy</td>\n",
       "    </tr>\n",
       "  </tbody>\n",
       "</table>\n",
       "<p>22225 rows × 4 columns</p>\n",
       "</div>"
      ],
      "text/plain": [
       "         idx                                               text  label  \\\n",
       "2          2  that loves its characters and communicates som...      1   \n",
       "15        15                            the greatest musicians       1   \n",
       "17        17          with his usual intelligence and subtlety       1   \n",
       "19        19  swimming is above all about a young woman 's f...      1   \n",
       "22        22                              a smile on your face       1   \n",
       "...      ...                                                ...    ...   \n",
       "67328  67328                 is nothing short of a great one .       1   \n",
       "67333  67333                                   comedy ensemble       1   \n",
       "67335  67335                                   brilliant movie       1   \n",
       "67338  67338                                        polished ,       1   \n",
       "67344  67344                               a delightful comedy       1   \n",
       "\n",
       "      category  \n",
       "2         easy  \n",
       "15        easy  \n",
       "17        easy  \n",
       "19        easy  \n",
       "22        easy  \n",
       "...        ...  \n",
       "67328     easy  \n",
       "67333     easy  \n",
       "67335     easy  \n",
       "67338     easy  \n",
       "67344     easy  \n",
       "\n",
       "[22225 rows x 4 columns]"
      ]
     },
     "execution_count": 22,
     "metadata": {},
     "output_type": "execute_result"
    }
   ],
   "source": [
    "df_t1"
   ]
  },
  {
   "cell_type": "code",
   "execution_count": 69,
   "id": "70451d24",
   "metadata": {},
   "outputs": [
    {
     "data": {
      "text/html": [
       "<div>\n",
       "<style scoped>\n",
       "    .dataframe tbody tr th:only-of-type {\n",
       "        vertical-align: middle;\n",
       "    }\n",
       "\n",
       "    .dataframe tbody tr th {\n",
       "        vertical-align: top;\n",
       "    }\n",
       "\n",
       "    .dataframe thead th {\n",
       "        text-align: right;\n",
       "    }\n",
       "</style>\n",
       "<table border=\"1\" class=\"dataframe\">\n",
       "  <thead>\n",
       "    <tr style=\"text-align: right;\">\n",
       "      <th></th>\n",
       "      <th>text</th>\n",
       "      <th>label</th>\n",
       "    </tr>\n",
       "  </thead>\n",
       "  <tbody>\n",
       "    <tr>\n",
       "      <th>0</th>\n",
       "      <td>I'm writing this review to give you a heads up...</td>\n",
       "      <td>0</td>\n",
       "    </tr>\n",
       "    <tr>\n",
       "      <th>1</th>\n",
       "      <td>Wing sauce is like water. Pretty much a lot of...</td>\n",
       "      <td>0</td>\n",
       "    </tr>\n",
       "    <tr>\n",
       "      <th>2</th>\n",
       "      <td>I drove by yesterday to get a sneak peak.  It ...</td>\n",
       "      <td>1</td>\n",
       "    </tr>\n",
       "    <tr>\n",
       "      <th>3</th>\n",
       "      <td>After waiting for almost 30 minutes to trade i...</td>\n",
       "      <td>0</td>\n",
       "    </tr>\n",
       "    <tr>\n",
       "      <th>4</th>\n",
       "      <td>I got 'new' tires from them and within two wee...</td>\n",
       "      <td>0</td>\n",
       "    </tr>\n",
       "    <tr>\n",
       "      <th>...</th>\n",
       "      <td>...</td>\n",
       "      <td>...</td>\n",
       "    </tr>\n",
       "    <tr>\n",
       "      <th>184795</th>\n",
       "      <td>When Corey sent the email about tickets being ...</td>\n",
       "      <td>1</td>\n",
       "    </tr>\n",
       "    <tr>\n",
       "      <th>184796</th>\n",
       "      <td>Wow, really?  Bought one item from them, a ham...</td>\n",
       "      <td>0</td>\n",
       "    </tr>\n",
       "    <tr>\n",
       "      <th>184797</th>\n",
       "      <td>Long line, inefficient staff. Maybe my expecta...</td>\n",
       "      <td>0</td>\n",
       "    </tr>\n",
       "    <tr>\n",
       "      <th>184798</th>\n",
       "      <td>Professional \\nFriendly\\nOn time AND affordabl...</td>\n",
       "      <td>1</td>\n",
       "    </tr>\n",
       "    <tr>\n",
       "      <th>184799</th>\n",
       "      <td>Phone calls always go to voicemail and message...</td>\n",
       "      <td>0</td>\n",
       "    </tr>\n",
       "  </tbody>\n",
       "</table>\n",
       "<p>184800 rows × 2 columns</p>\n",
       "</div>"
      ],
      "text/plain": [
       "                                                     text  label\n",
       "0       I'm writing this review to give you a heads up...      0\n",
       "1       Wing sauce is like water. Pretty much a lot of...      0\n",
       "2       I drove by yesterday to get a sneak peak.  It ...      1\n",
       "3       After waiting for almost 30 minutes to trade i...      0\n",
       "4       I got 'new' tires from them and within two wee...      0\n",
       "...                                                   ...    ...\n",
       "184795  When Corey sent the email about tickets being ...      1\n",
       "184796  Wow, really?  Bought one item from them, a ham...      0\n",
       "184797  Long line, inefficient staff. Maybe my expecta...      0\n",
       "184798  Professional \\nFriendly\\nOn time AND affordabl...      1\n",
       "184799  Phone calls always go to voicemail and message...      0\n",
       "\n",
       "[184800 rows x 2 columns]"
      ]
     },
     "execution_count": 69,
     "metadata": {},
     "output_type": "execute_result"
    }
   ],
   "source": [
    "pd.read_csv(os.getcwd()+f\"/datasets/{dataset_name}/{dataset_name}_easy_hard.csv\")"
   ]
  },
  {
   "cell_type": "code",
   "execution_count": null,
   "id": "3924062e",
   "metadata": {},
   "outputs": [],
   "source": []
  }
 ],
 "metadata": {
  "kernelspec": {
   "display_name": "Python 3 (ipykernel)",
   "language": "python",
   "name": "python3"
  },
  "language_info": {
   "codemirror_mode": {
    "name": "ipython",
    "version": 3
   },
   "file_extension": ".py",
   "mimetype": "text/x-python",
   "name": "python",
   "nbconvert_exporter": "python",
   "pygments_lexer": "ipython3",
   "version": "3.10.6"
  }
 },
 "nbformat": 4,
 "nbformat_minor": 5
}
