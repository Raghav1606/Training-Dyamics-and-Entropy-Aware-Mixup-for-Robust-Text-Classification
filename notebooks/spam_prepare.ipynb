{
 "cells": [
  {
   "cell_type": "code",
   "execution_count": 1,
   "metadata": {
    "collapsed": true,
    "pycharm": {
     "name": "#%%\n"
    }
   },
   "outputs": [
    {
     "name": "stdout",
     "output_type": "stream",
     "text": [
      "5574 5574\n"
     ]
    }
   ],
   "source": [
    "text = []\n",
    "label = []\n",
    "with open(f'SMSSpamCollection') as f:\n",
    "    for line in f:\n",
    "        label1, text1 = line.split('\\t')\n",
    "        label.append(1 if label1=='ham' else 0)\n",
    "        text.append(text1.strip('\\n'))\n",
    "\n",
    "print (len(label), len(text))\n"
   ]
  },
  {
   "cell_type": "code",
   "execution_count": 2,
   "outputs": [
    {
     "name": "stdout",
     "output_type": "stream",
     "text": [
      "                                                text  label\n",
      "0  Go until jurong point, crazy.. Available only ...      1\n",
      "1                      Ok lar... Joking wif u oni...      1\n",
      "2  Free entry in 2 a wkly comp to win FA Cup fina...      0\n",
      "3  U dun say so early hor... U c already then say...      1\n",
      "4  Nah I don't think he goes to usf, he lives aro...      1\n"
     ]
    }
   ],
   "source": [
    "import pandas as pd\n",
    "df = pd.DataFrame()\n",
    "df['text'] = text\n",
    "df['label'] = label\n",
    "\n",
    "print(df[:5])"
   ],
   "metadata": {
    "collapsed": false,
    "pycharm": {
     "name": "#%%\n"
    }
   }
  },
  {
   "cell_type": "code",
   "execution_count": 3,
   "outputs": [
    {
     "name": "stdout",
     "output_type": "stream",
     "text": [
      "                                                   text  label\n",
      "1350  FREE2DAY sexy St George's Day pic of Jordan!Tx...      0\n",
      "5544           Armand says get your ass over to epsilon      1\n",
      "1168            Lol now I'm after that hot air balloon!      1\n",
      "5551  You know, wot people wear. T shirts, jumpers, ...      1\n",
      "5320  Good morning, my Love ... I go to sleep now an...      1\n",
      "...                                                 ...    ...\n",
      "3772  Hi, wlcome back, did wonder if you got eaten b...      1\n",
      "5191  ree entry in 2 a weekly comp for a chance to w...      0\n",
      "5226  \"OH FUCK. JUSWOKE UP IN A BED ON A BOATIN THE ...      1\n",
      "5390           NOT MUCH NO FIGHTS. IT WAS A GOOD NITE!!      1\n",
      "860             Did he just say somebody is named tampa      1\n",
      "\n",
      "[4459 rows x 2 columns]                                                    text  label\n",
      "3690                          You still coming tonight?      1\n",
      "3527  \"HEY BABE! FAR 2 SPUN-OUT 2 SPK AT DA MO... DE...      1\n",
      "724            Ya even those cookies have jelly on them      1\n",
      "3370  Sorry i've not gone to that place. I.ll do so ...      1\n",
      "468               When are you going to ride your bike?      1\n",
      "...                                                 ...    ...\n",
      "2942  My supervisor find 4 me one lor i thk his stud...      1\n",
      "4864  Bored housewives! Chat n date now! 0871750.77....      0\n",
      "3227  Rose for red,red for blood,blood for heart,hea...      1\n",
      "3796      Also remember the beads don't come off. Ever.      1\n",
      "2879  Hey Boys. Want hot XXX pics sent direct 2 ur p...      0\n",
      "\n",
      "[1115 rows x 2 columns]\n"
     ]
    }
   ],
   "source": [
    "import sklearn.model_selection as sk\n",
    "\n",
    "train, test = sk.train_test_split(df, test_size=0.2, random_state=42, shuffle=True)\n",
    "print((train), (test))\n",
    "\n",
    "train.to_csv('train_SMSSpam', sep='\\t', index=False)\n",
    "test.to_csv('test_SMSSpam', sep='\\t', index=False)"
   ],
   "metadata": {
    "collapsed": false,
    "pycharm": {
     "name": "#%%\n"
    }
   }
  },
  {
   "cell_type": "code",
   "execution_count": null,
   "outputs": [],
   "source": [],
   "metadata": {
    "collapsed": false,
    "pycharm": {
     "name": "#%%\n"
    }
   }
  }
 ],
 "metadata": {
  "kernelspec": {
   "display_name": "Python 3",
   "language": "python",
   "name": "python3"
  },
  "language_info": {
   "codemirror_mode": {
    "name": "ipython",
    "version": 2
   },
   "file_extension": ".py",
   "mimetype": "text/x-python",
   "name": "python",
   "nbconvert_exporter": "python",
   "pygments_lexer": "ipython2",
   "version": "2.7.6"
  }
 },
 "nbformat": 4,
 "nbformat_minor": 0
}