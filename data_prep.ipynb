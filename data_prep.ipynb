{
 "cells": [
  {
   "cell_type": "code",
   "execution_count": 42,
   "id": "060153f0",
   "metadata": {
    "pycharm": {
     "name": "#%%\n"
    }
   },
   "outputs": [
    {
     "data": {
      "text/plain": "'/Users/raghavkapoor/Documents/Projects/11711/Data_Cartography'"
     },
     "execution_count": 42,
     "metadata": {},
     "output_type": "execute_result"
    }
   ],
   "source": [
    "pwd"
   ]
  },
  {
   "cell_type": "code",
   "execution_count": 49,
   "id": "743ca5da",
   "metadata": {
    "pycharm": {
     "name": "#%%\n"
    }
   },
   "outputs": [
    {
     "name": "stdout",
     "output_type": "stream",
     "text": [
      "Requirement already satisfied: datasets in /Users/raghavkapoor/miniconda3/envs/cartography/lib/python3.9/site-packages (2.7.1)\r\n",
      "Requirement already satisfied: responses<0.19 in /Users/raghavkapoor/miniconda3/envs/cartography/lib/python3.9/site-packages (from datasets) (0.18.0)\r\n",
      "Requirement already satisfied: huggingface-hub<1.0.0,>=0.2.0 in /Users/raghavkapoor/miniconda3/envs/cartography/lib/python3.9/site-packages (from datasets) (0.10.1)\r\n",
      "Requirement already satisfied: packaging in /Users/raghavkapoor/miniconda3/envs/cartography/lib/python3.9/site-packages (from datasets) (21.3)\r\n",
      "Requirement already satisfied: dill<0.3.7 in /Users/raghavkapoor/miniconda3/envs/cartography/lib/python3.9/site-packages (from datasets) (0.3.6)\r\n",
      "Requirement already satisfied: requests>=2.19.0 in /Users/raghavkapoor/miniconda3/envs/cartography/lib/python3.9/site-packages (from datasets) (2.28.1)\r\n",
      "Requirement already satisfied: numpy>=1.17 in /Users/raghavkapoor/miniconda3/envs/cartography/lib/python3.9/site-packages (from datasets) (1.23.3)\r\n",
      "Requirement already satisfied: pandas in /Users/raghavkapoor/miniconda3/envs/cartography/lib/python3.9/site-packages (from datasets) (1.4.4)\r\n",
      "Requirement already satisfied: fsspec[http]>=2021.11.1 in /Users/raghavkapoor/miniconda3/envs/cartography/lib/python3.9/site-packages (from datasets) (2022.11.0)\r\n",
      "Requirement already satisfied: pyarrow>=6.0.0 in /Users/raghavkapoor/miniconda3/envs/cartography/lib/python3.9/site-packages (from datasets) (10.0.1)\r\n",
      "Requirement already satisfied: multiprocess in /Users/raghavkapoor/miniconda3/envs/cartography/lib/python3.9/site-packages (from datasets) (0.70.14)\r\n",
      "Requirement already satisfied: aiohttp in /Users/raghavkapoor/miniconda3/envs/cartography/lib/python3.9/site-packages (from datasets) (3.8.3)\r\n",
      "Requirement already satisfied: tqdm>=4.62.1 in /Users/raghavkapoor/miniconda3/envs/cartography/lib/python3.9/site-packages (from datasets) (4.64.1)\r\n",
      "Requirement already satisfied: pyyaml>=5.1 in /Users/raghavkapoor/miniconda3/envs/cartography/lib/python3.9/site-packages (from datasets) (6.0)\r\n",
      "Requirement already satisfied: xxhash in /Users/raghavkapoor/miniconda3/envs/cartography/lib/python3.9/site-packages (from datasets) (3.1.0)\r\n",
      "Requirement already satisfied: charset-normalizer<3.0,>=2.0 in /Users/raghavkapoor/miniconda3/envs/cartography/lib/python3.9/site-packages (from aiohttp->datasets) (2.1.1)\r\n",
      "Requirement already satisfied: async-timeout<5.0,>=4.0.0a3 in /Users/raghavkapoor/miniconda3/envs/cartography/lib/python3.9/site-packages (from aiohttp->datasets) (4.0.2)\r\n",
      "Requirement already satisfied: attrs>=17.3.0 in /Users/raghavkapoor/miniconda3/envs/cartography/lib/python3.9/site-packages (from aiohttp->datasets) (22.1.0)\r\n",
      "Requirement already satisfied: frozenlist>=1.1.1 in /Users/raghavkapoor/miniconda3/envs/cartography/lib/python3.9/site-packages (from aiohttp->datasets) (1.3.3)\r\n",
      "Requirement already satisfied: multidict<7.0,>=4.5 in /Users/raghavkapoor/miniconda3/envs/cartography/lib/python3.9/site-packages (from aiohttp->datasets) (6.0.2)\r\n",
      "Requirement already satisfied: aiosignal>=1.1.2 in /Users/raghavkapoor/miniconda3/envs/cartography/lib/python3.9/site-packages (from aiohttp->datasets) (1.3.1)\r\n",
      "Requirement already satisfied: yarl<2.0,>=1.0 in /Users/raghavkapoor/miniconda3/envs/cartography/lib/python3.9/site-packages (from aiohttp->datasets) (1.8.1)\r\n",
      "Requirement already satisfied: filelock in /Users/raghavkapoor/miniconda3/envs/cartography/lib/python3.9/site-packages (from huggingface-hub<1.0.0,>=0.2.0->datasets) (3.8.0)\r\n",
      "Requirement already satisfied: typing-extensions>=3.7.4.3 in /Users/raghavkapoor/miniconda3/envs/cartography/lib/python3.9/site-packages (from huggingface-hub<1.0.0,>=0.2.0->datasets) (4.4.0)\r\n",
      "Requirement already satisfied: pyparsing!=3.0.5,>=2.0.2 in /Users/raghavkapoor/miniconda3/envs/cartography/lib/python3.9/site-packages (from packaging->datasets) (3.0.9)\r\n",
      "Requirement already satisfied: idna<4,>=2.5 in /Users/raghavkapoor/miniconda3/envs/cartography/lib/python3.9/site-packages (from requests>=2.19.0->datasets) (3.4)\r\n",
      "Requirement already satisfied: certifi>=2017.4.17 in /Users/raghavkapoor/miniconda3/envs/cartography/lib/python3.9/site-packages (from requests>=2.19.0->datasets) (2022.9.24)\r\n",
      "Requirement already satisfied: urllib3<1.27,>=1.21.1 in /Users/raghavkapoor/miniconda3/envs/cartography/lib/python3.9/site-packages (from requests>=2.19.0->datasets) (1.26.12)\r\n",
      "Requirement already satisfied: python-dateutil>=2.8.1 in /Users/raghavkapoor/miniconda3/envs/cartography/lib/python3.9/site-packages (from pandas->datasets) (2.8.2)\r\n",
      "Requirement already satisfied: pytz>=2020.1 in /Users/raghavkapoor/miniconda3/envs/cartography/lib/python3.9/site-packages (from pandas->datasets) (2022.1)\r\n",
      "Requirement already satisfied: six>=1.5 in /Users/raghavkapoor/miniconda3/envs/cartography/lib/python3.9/site-packages (from python-dateutil>=2.8.1->pandas->datasets) (1.16.0)\r\n"
     ]
    }
   ],
   "source": [
    "import json\n",
    "!pip install datasets\n",
    "from datasets import load_dataset"
   ]
  },
  {
   "cell_type": "code",
   "execution_count": 93,
   "id": "e28014a9",
   "metadata": {
    "pycharm": {
     "name": "#%%\n"
    }
   },
   "outputs": [
    {
     "data": {
      "text/plain": "Downloading builder script:   0%|          | 0.00/6.35k [00:00<?, ?B/s]",
      "application/vnd.jupyter.widget-view+json": {
       "version_major": 2,
       "version_minor": 0,
       "model_id": "eb4246a8ab72480da5ad2fcb0cef3ea5"
      }
     },
     "metadata": {},
     "output_type": "display_data"
    },
    {
     "data": {
      "text/plain": "Downloading metadata:   0%|          | 0.00/3.47k [00:00<?, ?B/s]",
      "application/vnd.jupyter.widget-view+json": {
       "version_major": 2,
       "version_minor": 0,
       "model_id": "8e5b5bc9c9d7463a92450c3f34774047"
      }
     },
     "metadata": {},
     "output_type": "display_data"
    },
    {
     "data": {
      "text/plain": "Downloading readme:   0%|          | 0.00/8.68k [00:00<?, ?B/s]",
      "application/vnd.jupyter.widget-view+json": {
       "version_major": 2,
       "version_minor": 0,
       "model_id": "cb939290e7f04e4d834b1886ddf0563f"
      }
     },
     "metadata": {},
     "output_type": "display_data"
    },
    {
     "name": "stdout",
     "output_type": "stream",
     "text": [
      "Downloading and preparing dataset yelp_polarity/plain_text to /Users/raghavkapoor/.cache/huggingface/datasets/yelp_polarity/plain_text/1.0.0/14f90415c754f47cf9087eadac25823a395fef4400c7903c5897f55cfaaa6f61...\n"
     ]
    },
    {
     "data": {
      "text/plain": "Downloading data:   0%|          | 0.00/166M [00:00<?, ?B/s]",
      "application/vnd.jupyter.widget-view+json": {
       "version_major": 2,
       "version_minor": 0,
       "model_id": "8db12ae8b9e24b76b5a04b3766b630b8"
      }
     },
     "metadata": {},
     "output_type": "display_data"
    },
    {
     "data": {
      "text/plain": "Generating train split:   0%|          | 0/560000 [00:00<?, ? examples/s]",
      "application/vnd.jupyter.widget-view+json": {
       "version_major": 2,
       "version_minor": 0,
       "model_id": "613250c004d54fdfa94c3a701d634cc6"
      }
     },
     "metadata": {},
     "output_type": "display_data"
    },
    {
     "data": {
      "text/plain": "Generating test split:   0%|          | 0/38000 [00:00<?, ? examples/s]",
      "application/vnd.jupyter.widget-view+json": {
       "version_major": 2,
       "version_minor": 0,
       "model_id": "c3fcf174e7644c28a44ea44193f693dd"
      }
     },
     "metadata": {},
     "output_type": "display_data"
    },
    {
     "name": "stdout",
     "output_type": "stream",
     "text": [
      "Dataset yelp_polarity downloaded and prepared to /Users/raghavkapoor/.cache/huggingface/datasets/yelp_polarity/plain_text/1.0.0/14f90415c754f47cf9087eadac25823a395fef4400c7903c5897f55cfaaa6f61. Subsequent calls will reuse this data.\n"
     ]
    },
    {
     "data": {
      "text/plain": "  0%|          | 0/2 [00:00<?, ?it/s]",
      "application/vnd.jupyter.widget-view+json": {
       "version_major": 2,
       "version_minor": 0,
       "model_id": "f83d11368e4d43d0a87f7098edff0e65"
      }
     },
     "metadata": {},
     "output_type": "display_data"
    }
   ],
   "source": [
    "dataset_name = 'yelp_polarity'\n",
    "raw_datasets = load_dataset(dataset_name)"
   ]
  },
  {
   "cell_type": "code",
   "execution_count": 94,
   "outputs": [
    {
     "data": {
      "text/plain": "'yelp_polarity'"
     },
     "execution_count": 94,
     "metadata": {},
     "output_type": "execute_result"
    }
   ],
   "source": [
    "dataset_name"
   ],
   "metadata": {
    "collapsed": false,
    "pycharm": {
     "name": "#%%\n"
    }
   }
  },
  {
   "cell_type": "code",
   "execution_count": 95,
   "id": "f64aad41",
   "metadata": {
    "pycharm": {
     "name": "#%%\n"
    }
   },
   "outputs": [
    {
     "data": {
      "text/plain": "  0%|          | 0/560 [00:00<?, ?ba/s]",
      "application/vnd.jupyter.widget-view+json": {
       "version_major": 2,
       "version_minor": 0,
       "model_id": "1d92104741124770b5eb66514c94b486"
      }
     },
     "metadata": {},
     "output_type": "display_data"
    },
    {
     "data": {
      "text/plain": "  0%|          | 0/38 [00:00<?, ?ba/s]",
      "application/vnd.jupyter.widget-view+json": {
       "version_major": 2,
       "version_minor": 0,
       "model_id": "4d68f8827b0f47d58a57e65e01ac9799"
      }
     },
     "metadata": {},
     "output_type": "display_data"
    },
    {
     "data": {
      "text/plain": "Flattening the indices:   0%|          | 0/560 [00:00<?, ?ba/s]",
      "application/vnd.jupyter.widget-view+json": {
       "version_major": 2,
       "version_minor": 0,
       "model_id": "84caa622bf3248e78b6ebd5d63d12901"
      }
     },
     "metadata": {},
     "output_type": "display_data"
    },
    {
     "name": "stdout",
     "output_type": "stream",
     "text": [
      "   idx                                               text  label\n",
      "0    0  Unfortunately, the frustration of being Dr. Go...      0\n",
      "1    1  Been going to Dr. Goldberg for over 10 years. ...      1\n",
      "2    2  I don't know what Dr. Goldberg was like before...      0\n",
      "3    3  I'm writing this review to give you a heads up...      0\n",
      "4    4  All the food is great here. But the best thing...      1\n",
      "/Users/raghavkapoor/Documents/Projects/11711/Data_Cartography\n"
     ]
    }
   ],
   "source": [
    "import pandas as pd\n",
    "import os\n",
    "# remove samples with label -1\n",
    "raw_datasets['train'] = raw_datasets['train'].filter(lambda x:x['label']!=-1)\n",
    "raw_datasets['test'] = raw_datasets['test'].filter(lambda x:x['label']!=-1)\n",
    "\n",
    "df_train = pd.DataFrame()\n",
    "if dataset_name!= \"sst2\":\n",
    "    ids = list(range(len(raw_datasets['train'])))\n",
    "    raw_datasets['train'] = raw_datasets['train'].add_column('idx',ids)\n",
    "\n",
    "    df_train[\"idx\"] = raw_datasets[\"train\"][\"idx\"]\n",
    "    df_train[\"text\"] = raw_datasets[\"train\"][\"text\"]\n",
    "    df_train[\"label\"] = raw_datasets[\"train\"][\"label\"]\n",
    "    \n",
    "    df_test = pd.DataFrame()\n",
    "    df_test[\"text\"] = raw_datasets[\"test\"][\"text\"]\n",
    "    df_test[\"label\"] = raw_datasets[\"test\"][\"label\"]\n",
    "\n",
    "    print(df_train.head())\n",
    "    print(os.getcwd())\n",
    "    df_train.to_csv(os.getcwd()+f\"/{dataset_name}_train.csv\", header = True, index = False)\n",
    "    df_test.to_csv(os.getcwd()+f\"/{dataset_name}_test.csv\", header = True, index = False)\n",
    "\n",
    "else:\n",
    "    df_train = pd.DataFrame()\n",
    "    df_train[\"idx\"] = raw_datasets[\"train\"][\"idx\"]\n",
    "    df_train[\"text\"] = raw_datasets[\"train\"][\"sentence\"]\n",
    "    df_train[\"label\"] = raw_datasets[\"train\"][\"label\"]\n",
    "    \n",
    "    df_test = pd.DataFrame()\n",
    "    df_test[\"text\"] = raw_datasets[\"test\"][\"sentence\"]\n",
    "    df_test[\"label\"] = raw_datasets[\"test\"][\"label\"]\n",
    "#     raw_datasets.save_to_disk(f\"datasets/{dataset_name}/with_idx\")\n",
    "\n",
    "    df_train.to_csv(os.getcwd()+f\"{dataset_name}_train.csv\", header = True, index = False)\n",
    "    df_test.to_csv(os.getcwd()+f\"{dataset_name}_test.csv\", header = True, index = False)\n",
    "\n",
    "\n"
   ]
  },
  {
   "cell_type": "code",
   "execution_count": null,
   "outputs": [],
   "source": [
    "import json\n",
    "# Opening JSON file\n",
    "f = open(f'./dy_log/{dataset_name}/roberta-base/three_regions_data_indices.json')\n",
    "data = json.load(f)\n",
    "category = []\n",
    "for line in df_train['idx']:\n",
    "    if line in data['hard']:\n",
    "        category.append('hard')\n",
    "    elif line in data['easy']:\n",
    "        category.append('easy')\n",
    "    elif line in data['ambiguous']:\n",
    "        category.append('ambiguous')\n",
    "    else:\n",
    "        category.append('none')\n",
    "\n",
    "print (category)\n",
    "df_train['category'] = category\n",
    "\n",
    "df_train.to_csv(os.getcwd()+f\"/{dataset_name}_categorized.csv\", header = True, index = False)"
   ],
   "metadata": {
    "collapsed": false,
    "pycharm": {
     "name": "#%%\n",
     "is_executing": true
    }
   }
  },
  {
   "cell_type": "code",
   "execution_count": null,
   "id": "17de9c11",
   "metadata": {
    "pycharm": {
     "name": "#%%\n",
     "is_executing": true
    }
   },
   "outputs": [],
   "source": [
    "dataset_name = 'imdb'\n",
    "raw_datasets.save_to_disk(f\"dy_log/{dataset_name}/with_idx\")"
   ]
  },
  {
   "cell_type": "code",
   "execution_count": 19,
   "id": "90b2a0bd",
   "metadata": {
    "pycharm": {
     "name": "#%%\n"
    }
   },
   "outputs": [
    {
     "data": {
      "text/plain": "DatasetDict({\n    train: Dataset({\n        features: ['text', 'label', 'idx'],\n        num_rows: 25000\n    })\n    test: Dataset({\n        features: ['text', 'label'],\n        num_rows: 25000\n    })\n    unsupervised: Dataset({\n        features: ['text', 'label'],\n        num_rows: 50000\n    })\n})"
     },
     "execution_count": 19,
     "metadata": {},
     "output_type": "execute_result"
    }
   ],
   "source": [
    "raw_datasets"
   ]
  },
  {
   "cell_type": "code",
   "execution_count": 20,
   "id": "a69467fc",
   "metadata": {
    "pycharm": {
     "name": "#%%\n"
    }
   },
   "outputs": [],
   "source": [
    "import pandas as pd\n",
    "df = pd.DataFrame()\n",
    "df[\"idx\"] = raw_datasets[\"train\"][\"idx\"]\n",
    "df[\"text\"] = raw_datasets[\"train\"][\"text\"]\n",
    "df[\"label\"] = raw_datasets[\"train\"][\"label\"]\n"
   ]
  },
  {
   "cell_type": "code",
   "execution_count": 21,
   "id": "ee7fd4d2",
   "metadata": {
    "pycharm": {
     "name": "#%%\n"
    }
   },
   "outputs": [
    {
     "data": {
      "text/plain": "   idx                                               text  label\n0    0  I rented I AM CURIOUS-YELLOW from my video sto...      0\n1    1  \"I Am Curious: Yellow\" is a risible and preten...      0\n2    2  If only to avoid making this type of film in t...      0\n3    3  This film was probably inspired by Godard's Ma...      0\n4    4  Oh, brother...after hearing about this ridicul...      0",
      "text/html": "<div>\n<style scoped>\n    .dataframe tbody tr th:only-of-type {\n        vertical-align: middle;\n    }\n\n    .dataframe tbody tr th {\n        vertical-align: top;\n    }\n\n    .dataframe thead th {\n        text-align: right;\n    }\n</style>\n<table border=\"1\" class=\"dataframe\">\n  <thead>\n    <tr style=\"text-align: right;\">\n      <th></th>\n      <th>idx</th>\n      <th>text</th>\n      <th>label</th>\n    </tr>\n  </thead>\n  <tbody>\n    <tr>\n      <th>0</th>\n      <td>0</td>\n      <td>I rented I AM CURIOUS-YELLOW from my video sto...</td>\n      <td>0</td>\n    </tr>\n    <tr>\n      <th>1</th>\n      <td>1</td>\n      <td>\"I Am Curious: Yellow\" is a risible and preten...</td>\n      <td>0</td>\n    </tr>\n    <tr>\n      <th>2</th>\n      <td>2</td>\n      <td>If only to avoid making this type of film in t...</td>\n      <td>0</td>\n    </tr>\n    <tr>\n      <th>3</th>\n      <td>3</td>\n      <td>This film was probably inspired by Godard's Ma...</td>\n      <td>0</td>\n    </tr>\n    <tr>\n      <th>4</th>\n      <td>4</td>\n      <td>Oh, brother...after hearing about this ridicul...</td>\n      <td>0</td>\n    </tr>\n  </tbody>\n</table>\n</div>"
     },
     "execution_count": 21,
     "metadata": {},
     "output_type": "execute_result"
    }
   ],
   "source": [
    "df.head()"
   ]
  },
  {
   "cell_type": "code",
   "execution_count": 22,
   "id": "54fb0c8c",
   "metadata": {
    "pycharm": {
     "name": "#%%\n"
    }
   },
   "outputs": [
    {
     "data": {
      "text/plain": "(25000, 3)"
     },
     "execution_count": 22,
     "metadata": {},
     "output_type": "execute_result"
    }
   ],
   "source": [
    "df.shape"
   ]
  },
  {
   "cell_type": "code",
   "execution_count": 23,
   "id": "5e9af40b",
   "metadata": {
    "pycharm": {
     "name": "#%%\n"
    }
   },
   "outputs": [],
   "source": [
    "dataset_name = 'imdb'\n",
    "df.to_csv(f\"datasets/{dataset_name}/with_idx/train/train.csv\", header = True, index = False)"
   ]
  },
  {
   "cell_type": "code",
   "execution_count": 24,
   "id": "4b66825d",
   "metadata": {
    "pycharm": {
     "name": "#%%\n"
    }
   },
   "outputs": [],
   "source": [
    "import pandas as pd\n",
    "df_test = pd.DataFrame()\n",
    "df_test[\"text\"] = raw_datasets[\"test\"][\"text\"]\n",
    "df_test[\"label\"] = raw_datasets[\"test\"][\"label\"]"
   ]
  },
  {
   "cell_type": "code",
   "execution_count": 14,
   "id": "81045bc2",
   "metadata": {
    "pycharm": {
     "name": "#%%\n"
    }
   },
   "outputs": [],
   "source": [
    "dataset_name = 'imdb'\n",
    "df_test.to_csv(f\"datasets/{dataset_name}/with_idx/test/test.csv\", header = True, index = False)"
   ]
  },
  {
   "cell_type": "code",
   "execution_count": 15,
   "id": "cc1f3bf6",
   "metadata": {
    "pycharm": {
     "name": "#%%\n"
    }
   },
   "outputs": [],
   "source": [
    "dataset_name = 'imdb'\n",
    "df.to_csv(f\"datasets/{dataset_name}/with_idx/test/test.csv\", header = True, index = False)"
   ]
  },
  {
   "cell_type": "code",
   "execution_count": null,
   "outputs": [],
   "source": [],
   "metadata": {
    "collapsed": false,
    "pycharm": {
     "name": "#%%\n"
    }
   }
  }
 ],
 "metadata": {
  "kernelspec": {
   "display_name": "Python 3 (ipykernel)",
   "language": "python",
   "name": "python3"
  },
  "language_info": {
   "codemirror_mode": {
    "name": "ipython",
    "version": 3
   },
   "file_extension": ".py",
   "mimetype": "text/x-python",
   "name": "python",
   "nbconvert_exporter": "python",
   "pygments_lexer": "ipython3",
   "version": "3.10.6"
  }
 },
 "nbformat": 4,
 "nbformat_minor": 5
}