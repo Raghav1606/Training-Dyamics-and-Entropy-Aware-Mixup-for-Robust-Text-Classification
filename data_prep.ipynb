{
 "cells": [
  {
   "cell_type": "code",
   "execution_count": 1,
   "id": "060153f0",
   "metadata": {},
   "outputs": [
    {
     "data": {
      "text/plain": [
       "'/projects/metis2/anubha/HW2/Data_Cartography'"
      ]
     },
     "execution_count": 1,
     "metadata": {},
     "output_type": "execute_result"
    }
   ],
   "source": [
    "pwd"
   ]
  },
  {
   "cell_type": "code",
   "execution_count": 29,
   "id": "743ca5da",
   "metadata": {},
   "outputs": [],
   "source": [
    "import json\n",
    "from datasets import load_dataset"
   ]
  },
  {
   "cell_type": "code",
   "execution_count": 48,
   "id": "e28014a9",
   "metadata": {},
   "outputs": [
    {
     "name": "stderr",
     "output_type": "stream",
     "text": [
      "Found cached dataset sst2 (/home/anubhak/.cache/huggingface/datasets/sst2/default/2.0.0/9896208a8d85db057ac50c72282bcb8fe755accc671a57dd8059d4e130961ed5)\n"
     ]
    },
    {
     "data": {
      "application/vnd.jupyter.widget-view+json": {
       "model_id": "004cf6ae12d94995b999ab8577b1b45b",
       "version_major": 2,
       "version_minor": 0
      },
      "text/plain": [
       "  0%|          | 0/3 [00:00<?, ?it/s]"
      ]
     },
     "metadata": {},
     "output_type": "display_data"
    },
    {
     "data": {
      "text/plain": [
       "DatasetDict({\n",
       "    train: Dataset({\n",
       "        features: ['idx', 'sentence', 'label'],\n",
       "        num_rows: 67349\n",
       "    })\n",
       "    validation: Dataset({\n",
       "        features: ['idx', 'sentence', 'label'],\n",
       "        num_rows: 872\n",
       "    })\n",
       "    test: Dataset({\n",
       "        features: ['idx', 'sentence', 'label'],\n",
       "        num_rows: 1821\n",
       "    })\n",
       "})"
      ]
     },
     "execution_count": 48,
     "metadata": {},
     "output_type": "execute_result"
    }
   ],
   "source": [
    "dataset_name = 'sst2'\n",
    "raw_datasets = load_dataset(dataset_name)\n",
    "raw_datasets"
   ]
  },
  {
   "cell_type": "code",
   "execution_count": 52,
   "id": "f64aad41",
   "metadata": {},
   "outputs": [
    {
     "data": {
      "application/vnd.jupyter.widget-view+json": {
       "model_id": "31ea7e9b2b40488dbeb08cdb61a7c75e",
       "version_major": 2,
       "version_minor": 0
      },
      "text/plain": [
       "  0%|          | 0/68 [00:00<?, ?ba/s]"
      ]
     },
     "metadata": {},
     "output_type": "display_data"
    }
   ],
   "source": [
    "import pandas as pd\n",
    "# remove samples with label -1\n",
    "raw_datasets['train'] = raw_datasets['train'].filter(lambda x:x['label']!=-1)\n",
    "raw_datasets['test'] = raw_datasets['test'].filter(lambda x:x['label']!=-1)\n",
    "\n",
    "\n",
    "if dataset_name!= \"sst2\":\n",
    "    ids = list(range(len(raw_datasets['train'])))\n",
    "    raw_datasets['train'] = raw_datasets['train'].add_column('idx',ids)\n",
    "    \n",
    "    df_train = pd.DataFrame()\n",
    "    df_train[\"idx\"] = raw_datasets[\"train\"][\"idx\"]\n",
    "    df_train[\"text\"] = raw_datasets[\"train\"][\"text\"]\n",
    "    df_train[\"label\"] = raw_datasets[\"train\"][\"label\"]\n",
    "    \n",
    "    df_test = pd.DataFrame()\n",
    "    df_test[\"text\"] = raw_datasets[\"test\"][\"text\"]\n",
    "    df_test[\"label\"] = raw_datasets[\"test\"][\"label\"]\n",
    "    \n",
    "    df_train.to_csv(f\"datasets/{dataset_name}/train.csv\", header = True, index = False)\n",
    "    df_test.to_csv(f\"datasets/{dataset_name}/test.csv\", header = True, index = False)\n",
    "\n",
    "else:\n",
    "    df_train = pd.DataFrame()\n",
    "    df_train[\"idx\"] = raw_datasets[\"train\"][\"idx\"]\n",
    "    df_train[\"text\"] = raw_datasets[\"train\"][\"sentence\"]\n",
    "    df_train[\"label\"] = raw_datasets[\"train\"][\"label\"]\n",
    "    \n",
    "    df_test = pd.DataFrame()\n",
    "    df_test[\"text\"] = raw_datasets[\"test\"][\"sentence\"]\n",
    "    df_test[\"label\"] = raw_datasets[\"test\"][\"label\"]\n",
    "#     raw_datasets.save_to_disk(f\"datasets/{dataset_name}/with_idx\")\n",
    "    df_train.to_csv(f\"datasets/{dataset_name}/train.csv\", header = True, index = False)\n",
    "    df_test.to_csv(f\"datasets/{dataset_name}/test.csv\", header = True, index = False)\n",
    "    \n",
    "    "
   ]
  },
  {
   "cell_type": "code",
   "execution_count": 17,
   "id": "17de9c11",
   "metadata": {},
   "outputs": [
    {
     "name": "stderr",
     "output_type": "stream",
     "text": [
      "Loading cached processed dataset at /home/anubhak/.cache/huggingface/datasets/imdb/plain_text/1.0.0/2fdd8b9bcadd6e7055e742a706876ba43f19faee861df134affd7a3f60fc38a1/cache-30195372a2ab58a6.arrow\n"
     ]
    }
   ],
   "source": [
    "dataset_name = 'imdb'\n",
    "raw_datasets.save_to_disk(f\"datasets/{dataset_name}/with_idx\")"
   ]
  },
  {
   "cell_type": "code",
   "execution_count": 11,
   "id": "90b2a0bd",
   "metadata": {},
   "outputs": [
    {
     "data": {
      "text/plain": [
       "DatasetDict({\n",
       "    train: Dataset({\n",
       "        features: ['text', 'label', 'idx'],\n",
       "        num_rows: 25000\n",
       "    })\n",
       "    test: Dataset({\n",
       "        features: ['text', 'label'],\n",
       "        num_rows: 25000\n",
       "    })\n",
       "    unsupervised: Dataset({\n",
       "        features: ['text', 'label'],\n",
       "        num_rows: 50000\n",
       "    })\n",
       "})"
      ]
     },
     "execution_count": 11,
     "metadata": {},
     "output_type": "execute_result"
    }
   ],
   "source": [
    "raw_datasets"
   ]
  },
  {
   "cell_type": "code",
   "execution_count": 19,
   "id": "a69467fc",
   "metadata": {},
   "outputs": [],
   "source": [
    "import pandas as pd\n",
    "df = pd.DataFrame()\n",
    "df[\"idx\"] = raw_datasets[\"train\"][\"idx\"]\n",
    "df[\"text\"] = raw_datasets[\"train\"][\"text\"]\n",
    "df[\"label\"] = raw_datasets[\"train\"][\"label\"]\n"
   ]
  },
  {
   "cell_type": "code",
   "execution_count": 20,
   "id": "ee7fd4d2",
   "metadata": {},
   "outputs": [
    {
     "data": {
      "text/html": [
       "<div>\n",
       "<style scoped>\n",
       "    .dataframe tbody tr th:only-of-type {\n",
       "        vertical-align: middle;\n",
       "    }\n",
       "\n",
       "    .dataframe tbody tr th {\n",
       "        vertical-align: top;\n",
       "    }\n",
       "\n",
       "    .dataframe thead th {\n",
       "        text-align: right;\n",
       "    }\n",
       "</style>\n",
       "<table border=\"1\" class=\"dataframe\">\n",
       "  <thead>\n",
       "    <tr style=\"text-align: right;\">\n",
       "      <th></th>\n",
       "      <th>idx</th>\n",
       "      <th>text</th>\n",
       "      <th>label</th>\n",
       "    </tr>\n",
       "  </thead>\n",
       "  <tbody>\n",
       "    <tr>\n",
       "      <th>0</th>\n",
       "      <td>0</td>\n",
       "      <td>I rented I AM CURIOUS-YELLOW from my video sto...</td>\n",
       "      <td>0</td>\n",
       "    </tr>\n",
       "    <tr>\n",
       "      <th>1</th>\n",
       "      <td>1</td>\n",
       "      <td>\"I Am Curious: Yellow\" is a risible and preten...</td>\n",
       "      <td>0</td>\n",
       "    </tr>\n",
       "    <tr>\n",
       "      <th>2</th>\n",
       "      <td>2</td>\n",
       "      <td>If only to avoid making this type of film in t...</td>\n",
       "      <td>0</td>\n",
       "    </tr>\n",
       "    <tr>\n",
       "      <th>3</th>\n",
       "      <td>3</td>\n",
       "      <td>This film was probably inspired by Godard's Ma...</td>\n",
       "      <td>0</td>\n",
       "    </tr>\n",
       "    <tr>\n",
       "      <th>4</th>\n",
       "      <td>4</td>\n",
       "      <td>Oh, brother...after hearing about this ridicul...</td>\n",
       "      <td>0</td>\n",
       "    </tr>\n",
       "  </tbody>\n",
       "</table>\n",
       "</div>"
      ],
      "text/plain": [
       "   idx                                               text  label\n",
       "0    0  I rented I AM CURIOUS-YELLOW from my video sto...      0\n",
       "1    1  \"I Am Curious: Yellow\" is a risible and preten...      0\n",
       "2    2  If only to avoid making this type of film in t...      0\n",
       "3    3  This film was probably inspired by Godard's Ma...      0\n",
       "4    4  Oh, brother...after hearing about this ridicul...      0"
      ]
     },
     "execution_count": 20,
     "metadata": {},
     "output_type": "execute_result"
    }
   ],
   "source": [
    "df.head()"
   ]
  },
  {
   "cell_type": "code",
   "execution_count": 21,
   "id": "54fb0c8c",
   "metadata": {},
   "outputs": [
    {
     "data": {
      "text/plain": [
       "(25000, 3)"
      ]
     },
     "execution_count": 21,
     "metadata": {},
     "output_type": "execute_result"
    }
   ],
   "source": [
    "df.shape"
   ]
  },
  {
   "cell_type": "code",
   "execution_count": 25,
   "id": "5e9af40b",
   "metadata": {},
   "outputs": [],
   "source": [
    "dataset_name = 'imdb'\n",
    "df.to_csv(f\"datasets/{dataset_name}/with_idx/train/train.csv\", header = True, index = False)"
   ]
  },
  {
   "cell_type": "code",
   "execution_count": 27,
   "id": "4b66825d",
   "metadata": {},
   "outputs": [],
   "source": [
    "import pandas as pd\n",
    "df_test = pd.DataFrame()\n",
    "df_test[\"text\"] = raw_datasets[\"test\"][\"text\"]\n",
    "df_test[\"label\"] = raw_datasets[\"test\"][\"label\"]"
   ]
  },
  {
   "cell_type": "code",
   "execution_count": 28,
   "id": "81045bc2",
   "metadata": {},
   "outputs": [],
   "source": [
    "dataset_name = 'imdb'\n",
    "df_test.to_csv(f\"datasets/{dataset_name}/with_idx/test/test.csv\", header = True, index = False)"
   ]
  },
  {
   "cell_type": "code",
   "execution_count": null,
   "id": "cc1f3bf6",
   "metadata": {},
   "outputs": [],
   "source": [
    "dataset_name = 'imdb'\n",
    "df.to_csv(f\"datasets/{dataset_name}/with_idx/test/test.csv\", header = True, index = False)"
   ]
  }
 ],
 "metadata": {
  "kernelspec": {
   "display_name": "Python 3 (ipykernel)",
   "language": "python",
   "name": "python3"
  },
  "language_info": {
   "codemirror_mode": {
    "name": "ipython",
    "version": 3
   },
   "file_extension": ".py",
   "mimetype": "text/x-python",
   "name": "python",
   "nbconvert_exporter": "python",
   "pygments_lexer": "ipython3",
   "version": "3.10.6"
  }
 },
 "nbformat": 4,
 "nbformat_minor": 5
}
